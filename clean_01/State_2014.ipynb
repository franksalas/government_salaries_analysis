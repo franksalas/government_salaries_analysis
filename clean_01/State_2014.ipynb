{
 "cells": [
  {
   "cell_type": "markdown",
   "metadata": {},
   "source": [
    "# State\n",
    "## 2014"
   ]
  },
  {
   "cell_type": "markdown",
   "metadata": {},
   "source": [
    "public information act  Texas Public Information Act.\n",
    "https://www.texasattorneygeneral.gov/sites/default/files/2018-06/PIA_handbook_2018_0.pdf\n",
    "    \n",
    "    https://en.wikipedia.org/wiki/Texas_Public_Information_Act\n",
    "    \n",
    "    "
   ]
  },
  {
   "cell_type": "code",
   "execution_count": null,
   "metadata": {},
   "outputs": [],
   "source": [
    "import warnings\n",
    "warnings.filterwarnings('ignore')"
   ]
  },
  {
   "cell_type": "code",
   "execution_count": 6,
   "metadata": {},
   "outputs": [],
   "source": [
    "import pandas as pd\n",
    "import glob, os\n",
    "import numpy as np\n",
    "import matplotlib.pyplot as plt\n",
    "import datetime  as dt\n",
    "import seaborn as sns"
   ]
  },
  {
   "cell_type": "markdown",
   "metadata": {},
   "source": [
    "# Data directory"
   ]
  },
  {
   "cell_type": "code",
   "execution_count": 7,
   "metadata": {},
   "outputs": [],
   "source": [
    "location = 'state'\n",
    "year = '2014'"
   ]
  },
  {
   "cell_type": "code",
   "execution_count": 8,
   "metadata": {},
   "outputs": [],
   "source": [
    "# data folder path\n",
    "data_directory = os.path.join('..','data','raw_data/{}/{}/'.format(location,year))\n",
    "data_directory_saves = os.path.join( '..','data','clean_data','{}/{}/'.format(location,year))"
   ]
  },
  {
   "cell_type": "code",
   "execution_count": 9,
   "metadata": {},
   "outputs": [],
   "source": [
    "# create directory\n",
    "if not os.path.exists(data_directory_saves):\n",
    "    os.makedirs(data_directory_saves)"
   ]
  },
  {
   "cell_type": "markdown",
   "metadata": {},
   "source": [
    "## Create dataframe"
   ]
  },
  {
   "cell_type": "code",
   "execution_count": 10,
   "metadata": {},
   "outputs": [],
   "source": [
    "# combine all files into one df\n",
    "all_files = glob.glob(os.path.join(data_directory, \"*.xlsx\"))[0] \n",
    "df = pd.read_excel(all_files)"
   ]
  },
  {
   "cell_type": "code",
   "execution_count": 11,
   "metadata": {},
   "outputs": [
    {
     "name": "stdout",
     "output_type": "stream",
     "text": [
      "<class 'pandas.core.frame.DataFrame'>\n",
      "RangeIndex: 148403 entries, 0 to 148402\n",
      "Data columns (total 11 columns):\n",
      "AGENCY           148403 non-null int64\n",
      " AGENCY NAME     148403 non-null object\n",
      "LAST NAME        148403 non-null object\n",
      "FIRST NAME       148403 non-null object\n",
      "CLASS TITLE      148403 non-null object\n",
      "ETHNICITY        148403 non-null object\n",
      "GENDER           148403 non-null object\n",
      "EMPLOYEE TYPE    148403 non-null object\n",
      "HIRE DATE        148403 non-null object\n",
      "ANNUAL SALARY    148403 non-null float64\n",
      "STATE NUMBER     148403 non-null int64\n",
      "dtypes: float64(1), int64(2), object(8)\n",
      "memory usage: 12.5+ MB\n"
     ]
    }
   ],
   "source": [
    "df.info()"
   ]
  },
  {
   "cell_type": "code",
   "execution_count": 12,
   "metadata": {},
   "outputs": [
    {
     "data": {
      "text/html": [
       "<div>\n",
       "<style scoped>\n",
       "    .dataframe tbody tr th:only-of-type {\n",
       "        vertical-align: middle;\n",
       "    }\n",
       "\n",
       "    .dataframe tbody tr th {\n",
       "        vertical-align: top;\n",
       "    }\n",
       "\n",
       "    .dataframe thead th {\n",
       "        text-align: right;\n",
       "    }\n",
       "</style>\n",
       "<table border=\"1\" class=\"dataframe\">\n",
       "  <thead>\n",
       "    <tr style=\"text-align: right;\">\n",
       "      <th></th>\n",
       "      <th>AGENCY</th>\n",
       "      <th>AGENCY NAME</th>\n",
       "      <th>LAST NAME</th>\n",
       "      <th>FIRST NAME</th>\n",
       "      <th>CLASS TITLE</th>\n",
       "      <th>ETHNICITY</th>\n",
       "      <th>GENDER</th>\n",
       "      <th>EMPLOYEE TYPE</th>\n",
       "      <th>HIRE DATE</th>\n",
       "      <th>ANNUAL SALARY</th>\n",
       "      <th>STATE NUMBER</th>\n",
       "    </tr>\n",
       "  </thead>\n",
       "  <tbody>\n",
       "    <tr>\n",
       "      <th>0</th>\n",
       "      <td>101</td>\n",
       "      <td>SENATE                                        ...</td>\n",
       "      <td>ACOSTA</td>\n",
       "      <td>SARAH</td>\n",
       "      <td>LEG. OFFICIAL/ADMINISTRATOR                   ...</td>\n",
       "      <td>HISPANIC</td>\n",
       "      <td>FEMALE</td>\n",
       "      <td>URP</td>\n",
       "      <td>02/11/2004</td>\n",
       "      <td>51000.0</td>\n",
       "      <td>59341</td>\n",
       "    </tr>\n",
       "    <tr>\n",
       "      <th>1</th>\n",
       "      <td>101</td>\n",
       "      <td>SENATE                                        ...</td>\n",
       "      <td>AHLHORN</td>\n",
       "      <td>KURT</td>\n",
       "      <td>LEGISLATIVE PROFESSIONAL                      ...</td>\n",
       "      <td>WHITE</td>\n",
       "      <td>MALE</td>\n",
       "      <td>URF</td>\n",
       "      <td>01/02/2013</td>\n",
       "      <td>34200.0</td>\n",
       "      <td>341347</td>\n",
       "    </tr>\n",
       "    <tr>\n",
       "      <th>2</th>\n",
       "      <td>101</td>\n",
       "      <td>SENATE                                        ...</td>\n",
       "      <td>AKPAN</td>\n",
       "      <td>ERIKA</td>\n",
       "      <td>LEG. OFFICIAL/ADMINISTRATOR                   ...</td>\n",
       "      <td>BLACK</td>\n",
       "      <td>FEMALE</td>\n",
       "      <td>URF</td>\n",
       "      <td>08/01/2005</td>\n",
       "      <td>51600.0</td>\n",
       "      <td>6093</td>\n",
       "    </tr>\n",
       "    <tr>\n",
       "      <th>3</th>\n",
       "      <td>101</td>\n",
       "      <td>SENATE                                        ...</td>\n",
       "      <td>ALBRIGHT</td>\n",
       "      <td>STEVEN</td>\n",
       "      <td>LEG. OFFICIAL/ADMINISTRATOR                   ...</td>\n",
       "      <td>WHITE</td>\n",
       "      <td>MALE</td>\n",
       "      <td>URP</td>\n",
       "      <td>01/09/2007</td>\n",
       "      <td>85800.0</td>\n",
       "      <td>57927</td>\n",
       "    </tr>\n",
       "    <tr>\n",
       "      <th>4</th>\n",
       "      <td>101</td>\n",
       "      <td>SENATE                                        ...</td>\n",
       "      <td>ALEXANDER</td>\n",
       "      <td>LEAH</td>\n",
       "      <td>LEG. OFFICIAL/ADMINISTRATOR                   ...</td>\n",
       "      <td>WHITE</td>\n",
       "      <td>FEMALE</td>\n",
       "      <td>URF</td>\n",
       "      <td>01/08/2013</td>\n",
       "      <td>66000.0</td>\n",
       "      <td>11289</td>\n",
       "    </tr>\n",
       "  </tbody>\n",
       "</table>\n",
       "</div>"
      ],
      "text/plain": [
       "   AGENCY                                        AGENCY NAME  \\\n",
       "0     101  SENATE                                        ...   \n",
       "1     101  SENATE                                        ...   \n",
       "2     101  SENATE                                        ...   \n",
       "3     101  SENATE                                        ...   \n",
       "4     101  SENATE                                        ...   \n",
       "\n",
       "                        LAST NAME                      FIRST NAME  \\\n",
       "0  ACOSTA                          SARAH                            \n",
       "1  AHLHORN                         KURT                             \n",
       "2  AKPAN                           ERIKA                            \n",
       "3  ALBRIGHT                        STEVEN                           \n",
       "4  ALEXANDER                       LEAH                             \n",
       "\n",
       "                                         CLASS TITLE        ETHNICITY  \\\n",
       "0  LEG. OFFICIAL/ADMINISTRATOR                   ...  HISPANIC          \n",
       "1  LEGISLATIVE PROFESSIONAL                      ...  WHITE             \n",
       "2  LEG. OFFICIAL/ADMINISTRATOR                   ...  BLACK             \n",
       "3  LEG. OFFICIAL/ADMINISTRATOR                   ...  WHITE             \n",
       "4  LEG. OFFICIAL/ADMINISTRATOR                   ...  WHITE             \n",
       "\n",
       "            GENDER EMPLOYEE TYPE   HIRE DATE  ANNUAL SALARY  STATE NUMBER  \n",
       "0  FEMALE              URP        02/11/2004        51000.0         59341  \n",
       "1  MALE                URF        01/02/2013        34200.0        341347  \n",
       "2  FEMALE              URF        08/01/2005        51600.0          6093  \n",
       "3  MALE                URP        01/09/2007        85800.0         57927  \n",
       "4  FEMALE              URF        01/08/2013        66000.0         11289  "
      ]
     },
     "execution_count": 12,
     "metadata": {},
     "output_type": "execute_result"
    }
   ],
   "source": [
    "df.head()"
   ]
  },
  {
   "cell_type": "markdown",
   "metadata": {},
   "source": [
    "## Normalize column names"
   ]
  },
  {
   "cell_type": "code",
   "execution_count": 13,
   "metadata": {},
   "outputs": [],
   "source": [
    "# https://medium.com/@chaimgluck1/working-with-pandas-fixing-messy-column-names-42a54a6659cd\n",
    "df.columns = df.columns.str.strip().str.lower().str.replace(' ', '_').str.replace('(', '').str.replace(')', '')"
   ]
  },
  {
   "cell_type": "code",
   "execution_count": 14,
   "metadata": {},
   "outputs": [
    {
     "data": {
      "text/html": [
       "<div>\n",
       "<style scoped>\n",
       "    .dataframe tbody tr th:only-of-type {\n",
       "        vertical-align: middle;\n",
       "    }\n",
       "\n",
       "    .dataframe tbody tr th {\n",
       "        vertical-align: top;\n",
       "    }\n",
       "\n",
       "    .dataframe thead th {\n",
       "        text-align: right;\n",
       "    }\n",
       "</style>\n",
       "<table border=\"1\" class=\"dataframe\">\n",
       "  <thead>\n",
       "    <tr style=\"text-align: right;\">\n",
       "      <th></th>\n",
       "      <th>agency</th>\n",
       "      <th>agency_name</th>\n",
       "      <th>last_name</th>\n",
       "      <th>first_name</th>\n",
       "      <th>class_title</th>\n",
       "      <th>ethnicity</th>\n",
       "      <th>gender</th>\n",
       "      <th>employee_type</th>\n",
       "      <th>hire_date</th>\n",
       "      <th>annual_salary</th>\n",
       "      <th>state_number</th>\n",
       "    </tr>\n",
       "  </thead>\n",
       "  <tbody>\n",
       "    <tr>\n",
       "      <th>0</th>\n",
       "      <td>101</td>\n",
       "      <td>SENATE                                        ...</td>\n",
       "      <td>ACOSTA</td>\n",
       "      <td>SARAH</td>\n",
       "      <td>LEG. OFFICIAL/ADMINISTRATOR                   ...</td>\n",
       "      <td>HISPANIC</td>\n",
       "      <td>FEMALE</td>\n",
       "      <td>URP</td>\n",
       "      <td>02/11/2004</td>\n",
       "      <td>51000.0</td>\n",
       "      <td>59341</td>\n",
       "    </tr>\n",
       "    <tr>\n",
       "      <th>1</th>\n",
       "      <td>101</td>\n",
       "      <td>SENATE                                        ...</td>\n",
       "      <td>AHLHORN</td>\n",
       "      <td>KURT</td>\n",
       "      <td>LEGISLATIVE PROFESSIONAL                      ...</td>\n",
       "      <td>WHITE</td>\n",
       "      <td>MALE</td>\n",
       "      <td>URF</td>\n",
       "      <td>01/02/2013</td>\n",
       "      <td>34200.0</td>\n",
       "      <td>341347</td>\n",
       "    </tr>\n",
       "    <tr>\n",
       "      <th>2</th>\n",
       "      <td>101</td>\n",
       "      <td>SENATE                                        ...</td>\n",
       "      <td>AKPAN</td>\n",
       "      <td>ERIKA</td>\n",
       "      <td>LEG. OFFICIAL/ADMINISTRATOR                   ...</td>\n",
       "      <td>BLACK</td>\n",
       "      <td>FEMALE</td>\n",
       "      <td>URF</td>\n",
       "      <td>08/01/2005</td>\n",
       "      <td>51600.0</td>\n",
       "      <td>6093</td>\n",
       "    </tr>\n",
       "    <tr>\n",
       "      <th>3</th>\n",
       "      <td>101</td>\n",
       "      <td>SENATE                                        ...</td>\n",
       "      <td>ALBRIGHT</td>\n",
       "      <td>STEVEN</td>\n",
       "      <td>LEG. OFFICIAL/ADMINISTRATOR                   ...</td>\n",
       "      <td>WHITE</td>\n",
       "      <td>MALE</td>\n",
       "      <td>URP</td>\n",
       "      <td>01/09/2007</td>\n",
       "      <td>85800.0</td>\n",
       "      <td>57927</td>\n",
       "    </tr>\n",
       "    <tr>\n",
       "      <th>4</th>\n",
       "      <td>101</td>\n",
       "      <td>SENATE                                        ...</td>\n",
       "      <td>ALEXANDER</td>\n",
       "      <td>LEAH</td>\n",
       "      <td>LEG. OFFICIAL/ADMINISTRATOR                   ...</td>\n",
       "      <td>WHITE</td>\n",
       "      <td>FEMALE</td>\n",
       "      <td>URF</td>\n",
       "      <td>01/08/2013</td>\n",
       "      <td>66000.0</td>\n",
       "      <td>11289</td>\n",
       "    </tr>\n",
       "  </tbody>\n",
       "</table>\n",
       "</div>"
      ],
      "text/plain": [
       "   agency                                        agency_name  \\\n",
       "0     101  SENATE                                        ...   \n",
       "1     101  SENATE                                        ...   \n",
       "2     101  SENATE                                        ...   \n",
       "3     101  SENATE                                        ...   \n",
       "4     101  SENATE                                        ...   \n",
       "\n",
       "                        last_name                      first_name  \\\n",
       "0  ACOSTA                          SARAH                            \n",
       "1  AHLHORN                         KURT                             \n",
       "2  AKPAN                           ERIKA                            \n",
       "3  ALBRIGHT                        STEVEN                           \n",
       "4  ALEXANDER                       LEAH                             \n",
       "\n",
       "                                         class_title        ethnicity  \\\n",
       "0  LEG. OFFICIAL/ADMINISTRATOR                   ...  HISPANIC          \n",
       "1  LEGISLATIVE PROFESSIONAL                      ...  WHITE             \n",
       "2  LEG. OFFICIAL/ADMINISTRATOR                   ...  BLACK             \n",
       "3  LEG. OFFICIAL/ADMINISTRATOR                   ...  WHITE             \n",
       "4  LEG. OFFICIAL/ADMINISTRATOR                   ...  WHITE             \n",
       "\n",
       "            gender employee_type   hire_date  annual_salary  state_number  \n",
       "0  FEMALE              URP        02/11/2004        51000.0         59341  \n",
       "1  MALE                URF        01/02/2013        34200.0        341347  \n",
       "2  FEMALE              URF        08/01/2005        51600.0          6093  \n",
       "3  MALE                URP        01/09/2007        85800.0         57927  \n",
       "4  FEMALE              URF        01/08/2013        66000.0         11289  "
      ]
     },
     "execution_count": 14,
     "metadata": {},
     "output_type": "execute_result"
    }
   ],
   "source": [
    "df.head()"
   ]
  },
  {
   "cell_type": "markdown",
   "metadata": {},
   "source": [
    "# Check for missing values"
   ]
  },
  {
   "cell_type": "code",
   "execution_count": 15,
   "metadata": {},
   "outputs": [
    {
     "data": {
      "text/plain": [
       "agency           0\n",
       "agency_name      0\n",
       "last_name        0\n",
       "first_name       0\n",
       "class_title      0\n",
       "ethnicity        0\n",
       "gender           0\n",
       "employee_type    0\n",
       "hire_date        0\n",
       "annual_salary    0\n",
       "state_number     0\n",
       "dtype: int64"
      ]
     },
     "execution_count": 15,
     "metadata": {},
     "output_type": "execute_result"
    }
   ],
   "source": [
    "df.apply(lambda x: sum(x.isnull()))"
   ]
  },
  {
   "cell_type": "markdown",
   "metadata": {},
   "source": [
    "## combine names \n",
    "- output First initial full last name\n"
   ]
  },
  {
   "cell_type": "code",
   "execution_count": 16,
   "metadata": {},
   "outputs": [],
   "source": [
    "def clean_name(data):\n",
    "    f_name = data.first_name[0]\n",
    "    l_name = data.last_name.title()\n",
    "    full_name = '{}.{}'.format(f_name,l_name)\n",
    "    return full_name"
   ]
  },
  {
   "cell_type": "code",
   "execution_count": 17,
   "metadata": {},
   "outputs": [
    {
     "data": {
      "text/html": [
       "<div>\n",
       "<style scoped>\n",
       "    .dataframe tbody tr th:only-of-type {\n",
       "        vertical-align: middle;\n",
       "    }\n",
       "\n",
       "    .dataframe tbody tr th {\n",
       "        vertical-align: top;\n",
       "    }\n",
       "\n",
       "    .dataframe thead th {\n",
       "        text-align: right;\n",
       "    }\n",
       "</style>\n",
       "<table border=\"1\" class=\"dataframe\">\n",
       "  <thead>\n",
       "    <tr style=\"text-align: right;\">\n",
       "      <th></th>\n",
       "      <th>agency</th>\n",
       "      <th>agency_name</th>\n",
       "      <th>last_name</th>\n",
       "      <th>first_name</th>\n",
       "      <th>class_title</th>\n",
       "      <th>ethnicity</th>\n",
       "      <th>gender</th>\n",
       "      <th>employee_type</th>\n",
       "      <th>hire_date</th>\n",
       "      <th>annual_salary</th>\n",
       "      <th>state_number</th>\n",
       "    </tr>\n",
       "  </thead>\n",
       "  <tbody>\n",
       "    <tr>\n",
       "      <th>0</th>\n",
       "      <td>101</td>\n",
       "      <td>SENATE                                        ...</td>\n",
       "      <td>ACOSTA</td>\n",
       "      <td>SARAH</td>\n",
       "      <td>LEG. OFFICIAL/ADMINISTRATOR                   ...</td>\n",
       "      <td>HISPANIC</td>\n",
       "      <td>FEMALE</td>\n",
       "      <td>URP</td>\n",
       "      <td>02/11/2004</td>\n",
       "      <td>51000.0</td>\n",
       "      <td>59341</td>\n",
       "    </tr>\n",
       "    <tr>\n",
       "      <th>1</th>\n",
       "      <td>101</td>\n",
       "      <td>SENATE                                        ...</td>\n",
       "      <td>AHLHORN</td>\n",
       "      <td>KURT</td>\n",
       "      <td>LEGISLATIVE PROFESSIONAL                      ...</td>\n",
       "      <td>WHITE</td>\n",
       "      <td>MALE</td>\n",
       "      <td>URF</td>\n",
       "      <td>01/02/2013</td>\n",
       "      <td>34200.0</td>\n",
       "      <td>341347</td>\n",
       "    </tr>\n",
       "    <tr>\n",
       "      <th>2</th>\n",
       "      <td>101</td>\n",
       "      <td>SENATE                                        ...</td>\n",
       "      <td>AKPAN</td>\n",
       "      <td>ERIKA</td>\n",
       "      <td>LEG. OFFICIAL/ADMINISTRATOR                   ...</td>\n",
       "      <td>BLACK</td>\n",
       "      <td>FEMALE</td>\n",
       "      <td>URF</td>\n",
       "      <td>08/01/2005</td>\n",
       "      <td>51600.0</td>\n",
       "      <td>6093</td>\n",
       "    </tr>\n",
       "    <tr>\n",
       "      <th>3</th>\n",
       "      <td>101</td>\n",
       "      <td>SENATE                                        ...</td>\n",
       "      <td>ALBRIGHT</td>\n",
       "      <td>STEVEN</td>\n",
       "      <td>LEG. OFFICIAL/ADMINISTRATOR                   ...</td>\n",
       "      <td>WHITE</td>\n",
       "      <td>MALE</td>\n",
       "      <td>URP</td>\n",
       "      <td>01/09/2007</td>\n",
       "      <td>85800.0</td>\n",
       "      <td>57927</td>\n",
       "    </tr>\n",
       "    <tr>\n",
       "      <th>4</th>\n",
       "      <td>101</td>\n",
       "      <td>SENATE                                        ...</td>\n",
       "      <td>ALEXANDER</td>\n",
       "      <td>LEAH</td>\n",
       "      <td>LEG. OFFICIAL/ADMINISTRATOR                   ...</td>\n",
       "      <td>WHITE</td>\n",
       "      <td>FEMALE</td>\n",
       "      <td>URF</td>\n",
       "      <td>01/08/2013</td>\n",
       "      <td>66000.0</td>\n",
       "      <td>11289</td>\n",
       "    </tr>\n",
       "  </tbody>\n",
       "</table>\n",
       "</div>"
      ],
      "text/plain": [
       "   agency                                        agency_name  \\\n",
       "0     101  SENATE                                        ...   \n",
       "1     101  SENATE                                        ...   \n",
       "2     101  SENATE                                        ...   \n",
       "3     101  SENATE                                        ...   \n",
       "4     101  SENATE                                        ...   \n",
       "\n",
       "                        last_name                      first_name  \\\n",
       "0  ACOSTA                          SARAH                            \n",
       "1  AHLHORN                         KURT                             \n",
       "2  AKPAN                           ERIKA                            \n",
       "3  ALBRIGHT                        STEVEN                           \n",
       "4  ALEXANDER                       LEAH                             \n",
       "\n",
       "                                         class_title        ethnicity  \\\n",
       "0  LEG. OFFICIAL/ADMINISTRATOR                   ...  HISPANIC          \n",
       "1  LEGISLATIVE PROFESSIONAL                      ...  WHITE             \n",
       "2  LEG. OFFICIAL/ADMINISTRATOR                   ...  BLACK             \n",
       "3  LEG. OFFICIAL/ADMINISTRATOR                   ...  WHITE             \n",
       "4  LEG. OFFICIAL/ADMINISTRATOR                   ...  WHITE             \n",
       "\n",
       "            gender employee_type   hire_date  annual_salary  state_number  \n",
       "0  FEMALE              URP        02/11/2004        51000.0         59341  \n",
       "1  MALE                URF        01/02/2013        34200.0        341347  \n",
       "2  FEMALE              URF        08/01/2005        51600.0          6093  \n",
       "3  MALE                URP        01/09/2007        85800.0         57927  \n",
       "4  FEMALE              URF        01/08/2013        66000.0         11289  "
      ]
     },
     "execution_count": 17,
     "metadata": {},
     "output_type": "execute_result"
    }
   ],
   "source": [
    "df.head()"
   ]
  },
  {
   "cell_type": "code",
   "execution_count": 18,
   "metadata": {},
   "outputs": [],
   "source": [
    "df['name'] = df.apply(clean_name,axis=1)\n",
    "df.drop(['last_name','first_name'],axis=1,inplace=True)"
   ]
  },
  {
   "cell_type": "code",
   "execution_count": 19,
   "metadata": {},
   "outputs": [
    {
     "data": {
      "text/html": [
       "<div>\n",
       "<style scoped>\n",
       "    .dataframe tbody tr th:only-of-type {\n",
       "        vertical-align: middle;\n",
       "    }\n",
       "\n",
       "    .dataframe tbody tr th {\n",
       "        vertical-align: top;\n",
       "    }\n",
       "\n",
       "    .dataframe thead th {\n",
       "        text-align: right;\n",
       "    }\n",
       "</style>\n",
       "<table border=\"1\" class=\"dataframe\">\n",
       "  <thead>\n",
       "    <tr style=\"text-align: right;\">\n",
       "      <th></th>\n",
       "      <th>agency</th>\n",
       "      <th>agency_name</th>\n",
       "      <th>class_title</th>\n",
       "      <th>ethnicity</th>\n",
       "      <th>gender</th>\n",
       "      <th>employee_type</th>\n",
       "      <th>hire_date</th>\n",
       "      <th>annual_salary</th>\n",
       "      <th>state_number</th>\n",
       "      <th>name</th>\n",
       "    </tr>\n",
       "  </thead>\n",
       "  <tbody>\n",
       "    <tr>\n",
       "      <th>0</th>\n",
       "      <td>101</td>\n",
       "      <td>SENATE                                        ...</td>\n",
       "      <td>LEG. OFFICIAL/ADMINISTRATOR                   ...</td>\n",
       "      <td>HISPANIC</td>\n",
       "      <td>FEMALE</td>\n",
       "      <td>URP</td>\n",
       "      <td>02/11/2004</td>\n",
       "      <td>51000.0</td>\n",
       "      <td>59341</td>\n",
       "      <td>S.Acosta</td>\n",
       "    </tr>\n",
       "    <tr>\n",
       "      <th>1</th>\n",
       "      <td>101</td>\n",
       "      <td>SENATE                                        ...</td>\n",
       "      <td>LEGISLATIVE PROFESSIONAL                      ...</td>\n",
       "      <td>WHITE</td>\n",
       "      <td>MALE</td>\n",
       "      <td>URF</td>\n",
       "      <td>01/02/2013</td>\n",
       "      <td>34200.0</td>\n",
       "      <td>341347</td>\n",
       "      <td>K.Ahlhorn</td>\n",
       "    </tr>\n",
       "    <tr>\n",
       "      <th>2</th>\n",
       "      <td>101</td>\n",
       "      <td>SENATE                                        ...</td>\n",
       "      <td>LEG. OFFICIAL/ADMINISTRATOR                   ...</td>\n",
       "      <td>BLACK</td>\n",
       "      <td>FEMALE</td>\n",
       "      <td>URF</td>\n",
       "      <td>08/01/2005</td>\n",
       "      <td>51600.0</td>\n",
       "      <td>6093</td>\n",
       "      <td>E.Akpan</td>\n",
       "    </tr>\n",
       "    <tr>\n",
       "      <th>3</th>\n",
       "      <td>101</td>\n",
       "      <td>SENATE                                        ...</td>\n",
       "      <td>LEG. OFFICIAL/ADMINISTRATOR                   ...</td>\n",
       "      <td>WHITE</td>\n",
       "      <td>MALE</td>\n",
       "      <td>URP</td>\n",
       "      <td>01/09/2007</td>\n",
       "      <td>85800.0</td>\n",
       "      <td>57927</td>\n",
       "      <td>S.Albright</td>\n",
       "    </tr>\n",
       "    <tr>\n",
       "      <th>4</th>\n",
       "      <td>101</td>\n",
       "      <td>SENATE                                        ...</td>\n",
       "      <td>LEG. OFFICIAL/ADMINISTRATOR                   ...</td>\n",
       "      <td>WHITE</td>\n",
       "      <td>FEMALE</td>\n",
       "      <td>URF</td>\n",
       "      <td>01/08/2013</td>\n",
       "      <td>66000.0</td>\n",
       "      <td>11289</td>\n",
       "      <td>L.Alexander</td>\n",
       "    </tr>\n",
       "  </tbody>\n",
       "</table>\n",
       "</div>"
      ],
      "text/plain": [
       "   agency                                        agency_name  \\\n",
       "0     101  SENATE                                        ...   \n",
       "1     101  SENATE                                        ...   \n",
       "2     101  SENATE                                        ...   \n",
       "3     101  SENATE                                        ...   \n",
       "4     101  SENATE                                        ...   \n",
       "\n",
       "                                         class_title        ethnicity  \\\n",
       "0  LEG. OFFICIAL/ADMINISTRATOR                   ...  HISPANIC          \n",
       "1  LEGISLATIVE PROFESSIONAL                      ...  WHITE             \n",
       "2  LEG. OFFICIAL/ADMINISTRATOR                   ...  BLACK             \n",
       "3  LEG. OFFICIAL/ADMINISTRATOR                   ...  WHITE             \n",
       "4  LEG. OFFICIAL/ADMINISTRATOR                   ...  WHITE             \n",
       "\n",
       "            gender employee_type   hire_date  annual_salary  state_number  \\\n",
       "0  FEMALE              URP        02/11/2004        51000.0         59341   \n",
       "1  MALE                URF        01/02/2013        34200.0        341347   \n",
       "2  FEMALE              URF        08/01/2005        51600.0          6093   \n",
       "3  MALE                URP        01/09/2007        85800.0         57927   \n",
       "4  FEMALE              URF        01/08/2013        66000.0         11289   \n",
       "\n",
       "                               name  \n",
       "0  S.Acosta                          \n",
       "1  K.Ahlhorn                         \n",
       "2  E.Akpan                           \n",
       "3  S.Albright                        \n",
       "4  L.Alexander                       "
      ]
     },
     "execution_count": 19,
     "metadata": {},
     "output_type": "execute_result"
    }
   ],
   "source": [
    "df.head()"
   ]
  },
  {
   "cell_type": "markdown",
   "metadata": {},
   "source": [
    "## Lets lowercase some of these values"
   ]
  },
  {
   "cell_type": "code",
   "execution_count": 21,
   "metadata": {},
   "outputs": [
    {
     "data": {
      "text/plain": [
       "TEXAS DEPARTMENT OF CRIMINAL JUSTICE                  38185\n",
       "DEPARTMENT OF AGING AND DISABILITY SERVICES           16039\n",
       "HEALTH AND HUMAN SERVICES COMMISSION                  12071\n",
       "DEPARTMENT OF STATE HEALTH SERVICES                   11993\n",
       "TEXAS DEPARTMENT OF TRANSPORTATION                    11637\n",
       "DEPARTMENT OF FAMILY AND PROTECTIVE SERVICES          11306\n",
       "DEPARTMENT OF PUBLIC SAFETY                            9140\n",
       "OFFICE OF THE ATTORNEY GENERAL                         4067\n",
       "TEXAS WORKFORCE COMMISSION                             2947\n",
       "PARKS AND WILDLIFE DEPARTMENT                          2919\n",
       "Name: agency_name, dtype: int64"
      ]
     },
     "execution_count": 21,
     "metadata": {},
     "output_type": "execute_result"
    }
   ],
   "source": [
    "df.agency_name.value_counts()[:10]"
   ]
  },
  {
   "cell_type": "code",
   "execution_count": 26,
   "metadata": {},
   "outputs": [],
   "source": [
    "df.agency_name = df.agency_name.str.strip().str.title()  # Name"
   ]
  },
  {
   "cell_type": "code",
   "execution_count": 27,
   "metadata": {},
   "outputs": [
    {
     "data": {
      "text/plain": [
       "Texas Department Of Criminal Justice            38185\n",
       "Department Of Aging And Disability Services     16039\n",
       "Health And Human Services Commission            12071\n",
       "Department Of State Health Services             11993\n",
       "Texas Department Of Transportation              11637\n",
       "Department Of Family And Protective Services    11306\n",
       "Department Of Public Safety                      9140\n",
       "Office Of The Attorney General                   4067\n",
       "Texas Workforce Commission                       2947\n",
       "Parks And Wildlife Department                    2919\n",
       "Name: agency_name, dtype: int64"
      ]
     },
     "execution_count": 27,
     "metadata": {},
     "output_type": "execute_result"
    }
   ],
   "source": [
    "df.agency_name.value_counts()[:10]"
   ]
  },
  {
   "cell_type": "code",
   "execution_count": null,
   "metadata": {},
   "outputs": [],
   "source": []
  },
  {
   "cell_type": "code",
   "execution_count": 29,
   "metadata": {},
   "outputs": [
    {
     "data": {
      "text/plain": [
       "CORREC  OFFICER V                                     8557\n",
       "CORREC  OFFICER IV                                    6532\n",
       "CORREC OFFCR III                                      5904\n",
       "DIRECT SUPPORT PROFESSIONAL I                         4314\n",
       "TEXAS WORKS ADVISOR II                                3910\n",
       "ADMINISTRATIVE ASST III                               2307\n",
       "ADMINISTRATIVE ASST II                                2188\n",
       "CORREC OFFCR II                                       2040\n",
       "CLERK II                                              1943\n",
       "CLERK III                                             1891\n",
       "Name: class_title, dtype: int64"
      ]
     },
     "execution_count": 29,
     "metadata": {},
     "output_type": "execute_result"
    }
   ],
   "source": [
    "df.class_title.value_counts()[:10]"
   ]
  },
  {
   "cell_type": "code",
   "execution_count": 30,
   "metadata": {},
   "outputs": [],
   "source": [
    "df.class_title = df.class_title.str.title().str.strip()"
   ]
  },
  {
   "cell_type": "code",
   "execution_count": 31,
   "metadata": {},
   "outputs": [
    {
     "data": {
      "text/plain": [
       "Correc  Officer V                8557\n",
       "Correc  Officer Iv               6532\n",
       "Correc Offcr Iii                 5904\n",
       "Direct Support Professional I    4314\n",
       "Texas Works Advisor Ii           3910\n",
       "Administrative Asst Iii          2307\n",
       "Administrative Asst Ii           2188\n",
       "Correc Offcr Ii                  2040\n",
       "Clerk Ii                         1943\n",
       "Clerk Iii                        1891\n",
       "Name: class_title, dtype: int64"
      ]
     },
     "execution_count": 31,
     "metadata": {},
     "output_type": "execute_result"
    }
   ],
   "source": [
    "df.class_title.value_counts()[:10]"
   ]
  },
  {
   "cell_type": "code",
   "execution_count": 32,
   "metadata": {},
   "outputs": [
    {
     "data": {
      "text/plain": [
       "array(['Leg. Official/Administrator', 'Legislative Professional',\n",
       "       'Legislative Admin. Support', ..., 'Database Admin V',\n",
       "       'Program Spec Iii', 'Chief Financial Officer Ii'], dtype=object)"
      ]
     },
     "execution_count": 32,
     "metadata": {},
     "output_type": "execute_result"
    }
   ],
   "source": [
    "df.class_title.unique()"
   ]
  },
  {
   "cell_type": "code",
   "execution_count": 34,
   "metadata": {},
   "outputs": [
    {
     "data": {
      "text/plain": [
       "array(['HISPANIC       ', 'WHITE          ', 'BLACK          ',\n",
       "       'ASIAN          ', 'AM INDIAN      ', 'OTHER          '],\n",
       "      dtype=object)"
      ]
     },
     "execution_count": 34,
     "metadata": {},
     "output_type": "execute_result"
    }
   ],
   "source": [
    "df.ethnicity.unique()"
   ]
  },
  {
   "cell_type": "code",
   "execution_count": 35,
   "metadata": {},
   "outputs": [
    {
     "data": {
      "text/plain": [
       "WHITE              73796\n",
       "HISPANIC           37139\n",
       "BLACK              33585\n",
       "ASIAN               3133\n",
       "AM INDIAN            746\n",
       "OTHER                  4\n",
       "Name: ethnicity, dtype: int64"
      ]
     },
     "execution_count": 35,
     "metadata": {},
     "output_type": "execute_result"
    }
   ],
   "source": [
    "df.ethnicity.value_counts()"
   ]
  },
  {
   "cell_type": "code",
   "execution_count": 36,
   "metadata": {},
   "outputs": [],
   "source": [
    "df.ethnicity = df.ethnicity.str.lower().str.strip()  # name"
   ]
  },
  {
   "cell_type": "code",
   "execution_count": 37,
   "metadata": {},
   "outputs": [
    {
     "data": {
      "text/plain": [
       "array(['hispanic', 'white', 'black', 'asian', 'am indian', 'other'],\n",
       "      dtype=object)"
      ]
     },
     "execution_count": 37,
     "metadata": {},
     "output_type": "execute_result"
    }
   ],
   "source": [
    "df.ethnicity.unique()"
   ]
  },
  {
   "cell_type": "code",
   "execution_count": 38,
   "metadata": {},
   "outputs": [
    {
     "data": {
      "text/plain": [
       "white        73796\n",
       "hispanic     37139\n",
       "black        33585\n",
       "asian         3133\n",
       "am indian      746\n",
       "other            4\n",
       "Name: ethnicity, dtype: int64"
      ]
     },
     "execution_count": 38,
     "metadata": {},
     "output_type": "execute_result"
    }
   ],
   "source": [
    "df.ethnicity.value_counts()"
   ]
  },
  {
   "cell_type": "code",
   "execution_count": 39,
   "metadata": {},
   "outputs": [
    {
     "data": {
      "text/plain": [
       "FEMALE             83776\n",
       "MALE               64627\n",
       "Name: gender, dtype: int64"
      ]
     },
     "execution_count": 39,
     "metadata": {},
     "output_type": "execute_result"
    }
   ],
   "source": [
    "df.gender.value_counts()"
   ]
  },
  {
   "cell_type": "code",
   "execution_count": 40,
   "metadata": {},
   "outputs": [
    {
     "data": {
      "text/plain": [
       "array(['FEMALE         ', 'MALE           '], dtype=object)"
      ]
     },
     "execution_count": 40,
     "metadata": {},
     "output_type": "execute_result"
    }
   ],
   "source": [
    "df.gender.unique()"
   ]
  },
  {
   "cell_type": "code",
   "execution_count": 41,
   "metadata": {},
   "outputs": [],
   "source": [
    "df.gender = df.gender.str.lower().str.strip()"
   ]
  },
  {
   "cell_type": "code",
   "execution_count": 42,
   "metadata": {},
   "outputs": [
    {
     "data": {
      "text/plain": [
       "array(['female', 'male'], dtype=object)"
      ]
     },
     "execution_count": 42,
     "metadata": {},
     "output_type": "execute_result"
    }
   ],
   "source": [
    "df.gender.unique()"
   ]
  },
  {
   "cell_type": "code",
   "execution_count": 43,
   "metadata": {},
   "outputs": [
    {
     "data": {
      "text/plain": [
       "female    83776\n",
       "male      64627\n",
       "Name: gender, dtype: int64"
      ]
     },
     "execution_count": 43,
     "metadata": {},
     "output_type": "execute_result"
    }
   ],
   "source": [
    "df.gender.value_counts()"
   ]
  },
  {
   "cell_type": "code",
   "execution_count": 45,
   "metadata": {},
   "outputs": [
    {
     "data": {
      "text/plain": [
       "85639     2\n",
       "84524     2\n",
       "147903    2\n",
       "152770    2\n",
       "102292    2\n",
       "47114     2\n",
       "190648    2\n",
       "7101      2\n",
       "97263     2\n",
       "181543    2\n",
       "Name: state_number, dtype: int64"
      ]
     },
     "execution_count": 45,
     "metadata": {},
     "output_type": "execute_result"
    }
   ],
   "source": [
    "df.state_number.value_counts()[:10]"
   ]
  },
  {
   "cell_type": "code",
   "execution_count": 46,
   "metadata": {},
   "outputs": [
    {
     "data": {
      "text/plain": [
       "array([ 59341, 341347,   6093, ...,  57405,  70518, 192939])"
      ]
     },
     "execution_count": 46,
     "metadata": {},
     "output_type": "execute_result"
    }
   ],
   "source": [
    "df.state_number.unique()"
   ]
  },
  {
   "cell_type": "code",
   "execution_count": 58,
   "metadata": {},
   "outputs": [
    {
     "data": {
      "text/plain": [
       "array(['URP      ', 'URF      ', 'UTP      ', 'UTF      ', 'CRF      ',\n",
       "       'ERF      ', 'CRP      ', 'CTF      ', 'CTP      '], dtype=object)"
      ]
     },
     "execution_count": 58,
     "metadata": {},
     "output_type": "execute_result"
    }
   ],
   "source": [
    "df.employee_type.unique()"
   ]
  },
  {
   "cell_type": "code",
   "execution_count": 60,
   "metadata": {},
   "outputs": [],
   "source": [
    "df.employee_type = df.employee_type.str.strip()"
   ]
  },
  {
   "cell_type": "code",
   "execution_count": 61,
   "metadata": {},
   "outputs": [
    {
     "data": {
      "text/plain": [
       "array(['URP', 'URF', 'UTP', 'UTF', 'CRF', 'ERF', 'CRP', 'CTF', 'CTP'],\n",
       "      dtype=object)"
      ]
     },
     "execution_count": 61,
     "metadata": {},
     "output_type": "execute_result"
    }
   ],
   "source": [
    "df.employee_type.unique()"
   ]
  },
  {
   "cell_type": "markdown",
   "metadata": {},
   "source": [
    "# get tenure"
   ]
  },
  {
   "cell_type": "code",
   "execution_count": 47,
   "metadata": {},
   "outputs": [
    {
     "data": {
      "text/plain": [
       "dtype('O')"
      ]
     },
     "execution_count": 47,
     "metadata": {},
     "output_type": "execute_result"
    }
   ],
   "source": [
    "df.hire_date.dtype"
   ]
  },
  {
   "cell_type": "code",
   "execution_count": 48,
   "metadata": {},
   "outputs": [],
   "source": [
    "# convert to datetime\n",
    "df.hire_date = pd.to_datetime(df.hire_date)"
   ]
  },
  {
   "cell_type": "code",
   "execution_count": 49,
   "metadata": {},
   "outputs": [
    {
     "data": {
      "text/plain": [
       "dtype('<M8[ns]')"
      ]
     },
     "execution_count": 49,
     "metadata": {},
     "output_type": "execute_result"
    }
   ],
   "source": [
    "df.hire_date.dtype"
   ]
  },
  {
   "cell_type": "markdown",
   "metadata": {},
   "source": [
    "## Tenure\n",
    "- current year : 2014 - `hire_date` year"
   ]
  },
  {
   "cell_type": "code",
   "execution_count": 50,
   "metadata": {},
   "outputs": [],
   "source": [
    "hired = df.hire_date.dt.year\n",
    "current = 2014"
   ]
  },
  {
   "cell_type": "code",
   "execution_count": 51,
   "metadata": {},
   "outputs": [],
   "source": [
    "df['tenure'] = current - hired\n",
    "df.drop(['hire_date'],axis=1,inplace=True)"
   ]
  },
  {
   "cell_type": "code",
   "execution_count": 52,
   "metadata": {},
   "outputs": [
    {
     "data": {
      "text/html": [
       "<div>\n",
       "<style scoped>\n",
       "    .dataframe tbody tr th:only-of-type {\n",
       "        vertical-align: middle;\n",
       "    }\n",
       "\n",
       "    .dataframe tbody tr th {\n",
       "        vertical-align: top;\n",
       "    }\n",
       "\n",
       "    .dataframe thead th {\n",
       "        text-align: right;\n",
       "    }\n",
       "</style>\n",
       "<table border=\"1\" class=\"dataframe\">\n",
       "  <thead>\n",
       "    <tr style=\"text-align: right;\">\n",
       "      <th></th>\n",
       "      <th>agency</th>\n",
       "      <th>agency_name</th>\n",
       "      <th>class_title</th>\n",
       "      <th>ethnicity</th>\n",
       "      <th>gender</th>\n",
       "      <th>employee_type</th>\n",
       "      <th>annual_salary</th>\n",
       "      <th>state_number</th>\n",
       "      <th>name</th>\n",
       "      <th>tenure</th>\n",
       "    </tr>\n",
       "  </thead>\n",
       "  <tbody>\n",
       "    <tr>\n",
       "      <th>0</th>\n",
       "      <td>101</td>\n",
       "      <td>Senate</td>\n",
       "      <td>Leg. Official/Administrator</td>\n",
       "      <td>hispanic</td>\n",
       "      <td>female</td>\n",
       "      <td>URP</td>\n",
       "      <td>51000.0</td>\n",
       "      <td>59341</td>\n",
       "      <td>S.Acosta</td>\n",
       "      <td>10</td>\n",
       "    </tr>\n",
       "    <tr>\n",
       "      <th>1</th>\n",
       "      <td>101</td>\n",
       "      <td>Senate</td>\n",
       "      <td>Legislative Professional</td>\n",
       "      <td>white</td>\n",
       "      <td>male</td>\n",
       "      <td>URF</td>\n",
       "      <td>34200.0</td>\n",
       "      <td>341347</td>\n",
       "      <td>K.Ahlhorn</td>\n",
       "      <td>1</td>\n",
       "    </tr>\n",
       "    <tr>\n",
       "      <th>2</th>\n",
       "      <td>101</td>\n",
       "      <td>Senate</td>\n",
       "      <td>Leg. Official/Administrator</td>\n",
       "      <td>black</td>\n",
       "      <td>female</td>\n",
       "      <td>URF</td>\n",
       "      <td>51600.0</td>\n",
       "      <td>6093</td>\n",
       "      <td>E.Akpan</td>\n",
       "      <td>9</td>\n",
       "    </tr>\n",
       "    <tr>\n",
       "      <th>3</th>\n",
       "      <td>101</td>\n",
       "      <td>Senate</td>\n",
       "      <td>Leg. Official/Administrator</td>\n",
       "      <td>white</td>\n",
       "      <td>male</td>\n",
       "      <td>URP</td>\n",
       "      <td>85800.0</td>\n",
       "      <td>57927</td>\n",
       "      <td>S.Albright</td>\n",
       "      <td>7</td>\n",
       "    </tr>\n",
       "    <tr>\n",
       "      <th>4</th>\n",
       "      <td>101</td>\n",
       "      <td>Senate</td>\n",
       "      <td>Leg. Official/Administrator</td>\n",
       "      <td>white</td>\n",
       "      <td>female</td>\n",
       "      <td>URF</td>\n",
       "      <td>66000.0</td>\n",
       "      <td>11289</td>\n",
       "      <td>L.Alexander</td>\n",
       "      <td>1</td>\n",
       "    </tr>\n",
       "  </tbody>\n",
       "</table>\n",
       "</div>"
      ],
      "text/plain": [
       "   agency agency_name                  class_title ethnicity  gender  \\\n",
       "0     101      Senate  Leg. Official/Administrator  hispanic  female   \n",
       "1     101      Senate     Legislative Professional     white    male   \n",
       "2     101      Senate  Leg. Official/Administrator     black  female   \n",
       "3     101      Senate  Leg. Official/Administrator     white    male   \n",
       "4     101      Senate  Leg. Official/Administrator     white  female   \n",
       "\n",
       "  employee_type  annual_salary  state_number  \\\n",
       "0     URP              51000.0         59341   \n",
       "1     URF              34200.0        341347   \n",
       "2     URF              51600.0          6093   \n",
       "3     URP              85800.0         57927   \n",
       "4     URF              66000.0         11289   \n",
       "\n",
       "                               name  tenure  \n",
       "0  S.Acosta                              10  \n",
       "1  K.Ahlhorn                              1  \n",
       "2  E.Akpan                                9  \n",
       "3  S.Albright                             7  \n",
       "4  L.Alexander                            1  "
      ]
     },
     "execution_count": 52,
     "metadata": {},
     "output_type": "execute_result"
    }
   ],
   "source": [
    "df.head()"
   ]
  },
  {
   "cell_type": "markdown",
   "metadata": {},
   "source": [
    "# order columns"
   ]
  },
  {
   "cell_type": "code",
   "execution_count": 53,
   "metadata": {},
   "outputs": [],
   "source": [
    "col_order = ['name','agency','agency_name', 'class_title', 'ethnicity', 'gender', 'employee_type', 'annual_salary', 'state_number', 'tenure']\n",
    "# column order\n",
    "df = df.reindex(columns=col_order)"
   ]
  },
  {
   "cell_type": "code",
   "execution_count": 62,
   "metadata": {},
   "outputs": [
    {
     "data": {
      "text/html": [
       "<div>\n",
       "<style scoped>\n",
       "    .dataframe tbody tr th:only-of-type {\n",
       "        vertical-align: middle;\n",
       "    }\n",
       "\n",
       "    .dataframe tbody tr th {\n",
       "        vertical-align: top;\n",
       "    }\n",
       "\n",
       "    .dataframe thead th {\n",
       "        text-align: right;\n",
       "    }\n",
       "</style>\n",
       "<table border=\"1\" class=\"dataframe\">\n",
       "  <thead>\n",
       "    <tr style=\"text-align: right;\">\n",
       "      <th></th>\n",
       "      <th>name</th>\n",
       "      <th>agency</th>\n",
       "      <th>agency_name</th>\n",
       "      <th>class_title</th>\n",
       "      <th>ethnicity</th>\n",
       "      <th>gender</th>\n",
       "      <th>employee_type</th>\n",
       "      <th>annual_salary</th>\n",
       "      <th>state_number</th>\n",
       "      <th>tenure</th>\n",
       "    </tr>\n",
       "  </thead>\n",
       "  <tbody>\n",
       "    <tr>\n",
       "      <th>0</th>\n",
       "      <td>S.Acosta</td>\n",
       "      <td>101</td>\n",
       "      <td>Senate</td>\n",
       "      <td>Leg. Official/Administrator</td>\n",
       "      <td>hispanic</td>\n",
       "      <td>female</td>\n",
       "      <td>URP</td>\n",
       "      <td>51000.0</td>\n",
       "      <td>59341</td>\n",
       "      <td>10</td>\n",
       "    </tr>\n",
       "    <tr>\n",
       "      <th>1</th>\n",
       "      <td>K.Ahlhorn</td>\n",
       "      <td>101</td>\n",
       "      <td>Senate</td>\n",
       "      <td>Legislative Professional</td>\n",
       "      <td>white</td>\n",
       "      <td>male</td>\n",
       "      <td>URF</td>\n",
       "      <td>34200.0</td>\n",
       "      <td>341347</td>\n",
       "      <td>1</td>\n",
       "    </tr>\n",
       "    <tr>\n",
       "      <th>2</th>\n",
       "      <td>E.Akpan</td>\n",
       "      <td>101</td>\n",
       "      <td>Senate</td>\n",
       "      <td>Leg. Official/Administrator</td>\n",
       "      <td>black</td>\n",
       "      <td>female</td>\n",
       "      <td>URF</td>\n",
       "      <td>51600.0</td>\n",
       "      <td>6093</td>\n",
       "      <td>9</td>\n",
       "    </tr>\n",
       "    <tr>\n",
       "      <th>3</th>\n",
       "      <td>S.Albright</td>\n",
       "      <td>101</td>\n",
       "      <td>Senate</td>\n",
       "      <td>Leg. Official/Administrator</td>\n",
       "      <td>white</td>\n",
       "      <td>male</td>\n",
       "      <td>URP</td>\n",
       "      <td>85800.0</td>\n",
       "      <td>57927</td>\n",
       "      <td>7</td>\n",
       "    </tr>\n",
       "    <tr>\n",
       "      <th>4</th>\n",
       "      <td>L.Alexander</td>\n",
       "      <td>101</td>\n",
       "      <td>Senate</td>\n",
       "      <td>Leg. Official/Administrator</td>\n",
       "      <td>white</td>\n",
       "      <td>female</td>\n",
       "      <td>URF</td>\n",
       "      <td>66000.0</td>\n",
       "      <td>11289</td>\n",
       "      <td>1</td>\n",
       "    </tr>\n",
       "  </tbody>\n",
       "</table>\n",
       "</div>"
      ],
      "text/plain": [
       "                               name  agency agency_name  \\\n",
       "0  S.Acosta                             101      Senate   \n",
       "1  K.Ahlhorn                            101      Senate   \n",
       "2  E.Akpan                              101      Senate   \n",
       "3  S.Albright                           101      Senate   \n",
       "4  L.Alexander                          101      Senate   \n",
       "\n",
       "                   class_title ethnicity  gender employee_type  annual_salary  \\\n",
       "0  Leg. Official/Administrator  hispanic  female           URP        51000.0   \n",
       "1     Legislative Professional     white    male           URF        34200.0   \n",
       "2  Leg. Official/Administrator     black  female           URF        51600.0   \n",
       "3  Leg. Official/Administrator     white    male           URP        85800.0   \n",
       "4  Leg. Official/Administrator     white  female           URF        66000.0   \n",
       "\n",
       "   state_number  tenure  \n",
       "0         59341      10  \n",
       "1        341347       1  \n",
       "2          6093       9  \n",
       "3         57927       7  \n",
       "4         11289       1  "
      ]
     },
     "execution_count": 62,
     "metadata": {},
     "output_type": "execute_result"
    }
   ],
   "source": [
    "df.head()"
   ]
  },
  {
   "cell_type": "code",
   "execution_count": null,
   "metadata": {},
   "outputs": [],
   "source": []
  },
  {
   "cell_type": "markdown",
   "metadata": {},
   "source": [
    "# save datafame"
   ]
  },
  {
   "cell_type": "code",
   "execution_count": 63,
   "metadata": {},
   "outputs": [],
   "source": [
    "df.to_csv(data_directory_saves+'state_2014.csv',index=False)"
   ]
  },
  {
   "cell_type": "code",
   "execution_count": 64,
   "metadata": {},
   "outputs": [
    {
     "data": {
      "text/plain": [
       "'../data/clean_data/state/2014/'"
      ]
     },
     "execution_count": 64,
     "metadata": {},
     "output_type": "execute_result"
    }
   ],
   "source": [
    "data_directory_saves"
   ]
  },
  {
   "cell_type": "code",
   "execution_count": null,
   "metadata": {},
   "outputs": [],
   "source": []
  }
 ],
 "metadata": {
  "kernelspec": {
   "display_name": "Python 3",
   "language": "python",
   "name": "python3"
  },
  "language_info": {
   "codemirror_mode": {
    "name": "ipython",
    "version": 3
   },
   "file_extension": ".py",
   "mimetype": "text/x-python",
   "name": "python",
   "nbconvert_exporter": "python",
   "pygments_lexer": "ipython3",
   "version": "3.6.8"
  }
 },
 "nbformat": 4,
 "nbformat_minor": 2
}
