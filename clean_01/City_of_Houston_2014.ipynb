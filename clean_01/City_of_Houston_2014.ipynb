{
 "cells": [
  {
   "cell_type": "markdown",
   "metadata": {},
   "source": [
    "# City of Houston\n",
    "## 2014"
   ]
  },
  {
   "cell_type": "code",
   "execution_count": 1,
   "metadata": {},
   "outputs": [],
   "source": [
    "import warnings\n",
    "warnings.filterwarnings('ignore')"
   ]
  },
  {
   "cell_type": "code",
   "execution_count": 2,
   "metadata": {},
   "outputs": [],
   "source": [
    "import pandas as pd\n",
    "import glob, os\n",
    "import numpy as np\n",
    "import matplotlib.pyplot as plt\n",
    "import datetime  as dt\n",
    "import seaborn as sns"
   ]
  },
  {
   "cell_type": "markdown",
   "metadata": {},
   "source": [
    "# Data directory"
   ]
  },
  {
   "cell_type": "code",
   "execution_count": 3,
   "metadata": {},
   "outputs": [],
   "source": [
    "location = 'houston'\n",
    "year = '2014'"
   ]
  },
  {
   "cell_type": "code",
   "execution_count": 4,
   "metadata": {},
   "outputs": [],
   "source": [
    "\n",
    "# data folder path\n",
    "data_directory = os.path.join('..','data','raw_data/{}/{}/'.format(location,year))\n",
    "data_directory_saves = os.path.join( '..','data','clean_data','{}/{}/'.format(location,year))"
   ]
  },
  {
   "cell_type": "code",
   "execution_count": 5,
   "metadata": {},
   "outputs": [],
   "source": [
    "# create directory\n",
    "if not os.path.exists(data_directory_saves):\n",
    "    os.makedirs(data_directory_saves)"
   ]
  },
  {
   "cell_type": "code",
   "execution_count": null,
   "metadata": {},
   "outputs": [],
   "source": []
  },
  {
   "cell_type": "code",
   "execution_count": 30,
   "metadata": {},
   "outputs": [],
   "source": [
    "# combine all files into one df\n",
    "all_files = glob.glob(os.path.join(data_directory, \"*.xlsx\"))[0] \n",
    "df = pd.read_excel(all_files)"
   ]
  },
  {
   "cell_type": "code",
   "execution_count": 31,
   "metadata": {},
   "outputs": [
    {
     "data": {
      "text/html": [
       "<div>\n",
       "<style scoped>\n",
       "    .dataframe tbody tr th:only-of-type {\n",
       "        vertical-align: middle;\n",
       "    }\n",
       "\n",
       "    .dataframe tbody tr th {\n",
       "        vertical-align: top;\n",
       "    }\n",
       "\n",
       "    .dataframe thead th {\n",
       "        text-align: right;\n",
       "    }\n",
       "</style>\n",
       "<table border=\"1\" class=\"dataframe\">\n",
       "  <thead>\n",
       "    <tr style=\"text-align: right;\">\n",
       "      <th></th>\n",
       "      <th>CITY  OF  HOUSTON</th>\n",
       "      <th>Unnamed: 1</th>\n",
       "      <th>Unnamed: 2</th>\n",
       "      <th>Unnamed: 3</th>\n",
       "      <th>Unnamed: 4</th>\n",
       "      <th>Unnamed: 5</th>\n",
       "      <th>Unnamed: 6</th>\n",
       "      <th>Unnamed: 7</th>\n",
       "      <th>Unnamed: 8</th>\n",
       "    </tr>\n",
       "  </thead>\n",
       "  <tbody>\n",
       "    <tr>\n",
       "      <th>0</th>\n",
       "      <td>EMPLOYEE  LISTING  AS  OF  JULY  17, 2014</td>\n",
       "      <td>NaN</td>\n",
       "      <td>NaN</td>\n",
       "      <td>NaN</td>\n",
       "      <td>NaN</td>\n",
       "      <td>NaN</td>\n",
       "      <td>NaN</td>\n",
       "      <td>NaN</td>\n",
       "      <td>NaN</td>\n",
       "    </tr>\n",
       "    <tr>\n",
       "      <th>1</th>\n",
       "      <td>NaN</td>\n",
       "      <td>NaN</td>\n",
       "      <td>NaN</td>\n",
       "      <td>NaN</td>\n",
       "      <td>NaN</td>\n",
       "      <td>NaN</td>\n",
       "      <td>NaN</td>\n",
       "      <td>NaN</td>\n",
       "      <td>NaN</td>\n",
       "    </tr>\n",
       "    <tr>\n",
       "      <th>2</th>\n",
       "      <td>LAST NAME</td>\n",
       "      <td>FIRST NAME</td>\n",
       "      <td>MIDDLE NAME</td>\n",
       "      <td>CLASSIFICATION</td>\n",
       "      <td>DEPARTMENT</td>\n",
       "      <td>RACE</td>\n",
       "      <td>GENDER</td>\n",
       "      <td>HIRE DATE</td>\n",
       "      <td>ANNUALIZED BASE PAY</td>\n",
       "    </tr>\n",
       "    <tr>\n",
       "      <th>3</th>\n",
       "      <td>RUSSELL</td>\n",
       "      <td>ANNA</td>\n",
       "      <td>A</td>\n",
       "      <td>CITY SECRETARY</td>\n",
       "      <td>CITY SECRETARY</td>\n",
       "      <td>White</td>\n",
       "      <td>Female</td>\n",
       "      <td>1952-04-28 00:00:00</td>\n",
       "      <td>109468</td>\n",
       "    </tr>\n",
       "    <tr>\n",
       "      <th>4</th>\n",
       "      <td>JONES</td>\n",
       "      <td>JOHN</td>\n",
       "      <td>L</td>\n",
       "      <td>RECREATION ASSISTANT</td>\n",
       "      <td>PARKS &amp; RECREATION</td>\n",
       "      <td>Black or African American</td>\n",
       "      <td>Male</td>\n",
       "      <td>1998-03-30 00:00:00</td>\n",
       "      <td>22734</td>\n",
       "    </tr>\n",
       "  </tbody>\n",
       "</table>\n",
       "</div>"
      ],
      "text/plain": [
       "                           CITY  OF  HOUSTON  Unnamed: 1   Unnamed: 2  \\\n",
       "0  EMPLOYEE  LISTING  AS  OF  JULY  17, 2014         NaN          NaN   \n",
       "1                                        NaN         NaN          NaN   \n",
       "2                                  LAST NAME  FIRST NAME  MIDDLE NAME   \n",
       "3                                    RUSSELL        ANNA            A   \n",
       "4                                      JONES        JOHN            L   \n",
       "\n",
       "             Unnamed: 3          Unnamed: 4                 Unnamed: 5  \\\n",
       "0                   NaN                 NaN                        NaN   \n",
       "1                   NaN                 NaN                        NaN   \n",
       "2        CLASSIFICATION          DEPARTMENT                       RACE   \n",
       "3        CITY SECRETARY      CITY SECRETARY                      White   \n",
       "4  RECREATION ASSISTANT  PARKS & RECREATION  Black or African American   \n",
       "\n",
       "  Unnamed: 6           Unnamed: 7           Unnamed: 8  \n",
       "0        NaN                  NaN                  NaN  \n",
       "1        NaN                  NaN                  NaN  \n",
       "2     GENDER            HIRE DATE  ANNUALIZED BASE PAY  \n",
       "3     Female  1952-04-28 00:00:00               109468  \n",
       "4       Male  1998-03-30 00:00:00                22734  "
      ]
     },
     "execution_count": 31,
     "metadata": {},
     "output_type": "execute_result"
    }
   ],
   "source": [
    "df.head()"
   ]
  },
  {
   "cell_type": "markdown",
   "metadata": {},
   "source": [
    "## Organize columns\n",
    "Column names are on row 2\n",
    "- change column names to row 2\n",
    "- delete rows"
   ]
  },
  {
   "cell_type": "code",
   "execution_count": 32,
   "metadata": {},
   "outputs": [],
   "source": [
    "df.columns =list(df.iloc[2])  # convert row 2 as a list and labe it as column names\n",
    "df.drop(df.index[0:3],axis=0,inplace=True)  # drop rows between that are null\n",
    "df.reset_index(drop=True,inplace=True)  # reset index"
   ]
  },
  {
   "cell_type": "code",
   "execution_count": 33,
   "metadata": {},
   "outputs": [
    {
     "data": {
      "text/html": [
       "<div>\n",
       "<style scoped>\n",
       "    .dataframe tbody tr th:only-of-type {\n",
       "        vertical-align: middle;\n",
       "    }\n",
       "\n",
       "    .dataframe tbody tr th {\n",
       "        vertical-align: top;\n",
       "    }\n",
       "\n",
       "    .dataframe thead th {\n",
       "        text-align: right;\n",
       "    }\n",
       "</style>\n",
       "<table border=\"1\" class=\"dataframe\">\n",
       "  <thead>\n",
       "    <tr style=\"text-align: right;\">\n",
       "      <th></th>\n",
       "      <th>LAST NAME</th>\n",
       "      <th>FIRST NAME</th>\n",
       "      <th>MIDDLE NAME</th>\n",
       "      <th>CLASSIFICATION</th>\n",
       "      <th>DEPARTMENT</th>\n",
       "      <th>RACE</th>\n",
       "      <th>GENDER</th>\n",
       "      <th>HIRE DATE</th>\n",
       "      <th>ANNUALIZED BASE PAY</th>\n",
       "    </tr>\n",
       "  </thead>\n",
       "  <tbody>\n",
       "    <tr>\n",
       "      <th>0</th>\n",
       "      <td>RUSSELL</td>\n",
       "      <td>ANNA</td>\n",
       "      <td>A</td>\n",
       "      <td>CITY SECRETARY</td>\n",
       "      <td>CITY SECRETARY</td>\n",
       "      <td>White</td>\n",
       "      <td>Female</td>\n",
       "      <td>1952-04-28 00:00:00</td>\n",
       "      <td>109468</td>\n",
       "    </tr>\n",
       "    <tr>\n",
       "      <th>1</th>\n",
       "      <td>JONES</td>\n",
       "      <td>JOHN</td>\n",
       "      <td>L</td>\n",
       "      <td>RECREATION ASSISTANT</td>\n",
       "      <td>PARKS &amp; RECREATION</td>\n",
       "      <td>Black or African American</td>\n",
       "      <td>Male</td>\n",
       "      <td>1998-03-30 00:00:00</td>\n",
       "      <td>22734</td>\n",
       "    </tr>\n",
       "    <tr>\n",
       "      <th>2</th>\n",
       "      <td>NORMAN</td>\n",
       "      <td>BENJAMIN</td>\n",
       "      <td>W</td>\n",
       "      <td>POLICE SERGEANT</td>\n",
       "      <td>POLICE</td>\n",
       "      <td>White</td>\n",
       "      <td>Male</td>\n",
       "      <td>1958-12-29 00:00:00</td>\n",
       "      <td>78114</td>\n",
       "    </tr>\n",
       "    <tr>\n",
       "      <th>3</th>\n",
       "      <td>HENRY</td>\n",
       "      <td>WILEY</td>\n",
       "      <td>E</td>\n",
       "      <td>CENTER ADMINISTRATOR</td>\n",
       "      <td>HEALTH &amp; HUMAN SERVICES</td>\n",
       "      <td>Black or African American</td>\n",
       "      <td>Male</td>\n",
       "      <td>1979-03-19 00:00:00</td>\n",
       "      <td>80142</td>\n",
       "    </tr>\n",
       "    <tr>\n",
       "      <th>4</th>\n",
       "      <td>HERNANDEZ</td>\n",
       "      <td>SYLVIA</td>\n",
       "      <td>T</td>\n",
       "      <td>SENIOR CLERK</td>\n",
       "      <td>HEALTH &amp; HUMAN SERVICES</td>\n",
       "      <td>Hispanic/Latino</td>\n",
       "      <td>Female</td>\n",
       "      <td>1998-03-09 00:00:00</td>\n",
       "      <td>24585</td>\n",
       "    </tr>\n",
       "  </tbody>\n",
       "</table>\n",
       "</div>"
      ],
      "text/plain": [
       "   LAST NAME FIRST NAME MIDDLE NAME        CLASSIFICATION  \\\n",
       "0    RUSSELL       ANNA           A        CITY SECRETARY   \n",
       "1      JONES       JOHN           L  RECREATION ASSISTANT   \n",
       "2     NORMAN   BENJAMIN           W       POLICE SERGEANT   \n",
       "3      HENRY      WILEY           E  CENTER ADMINISTRATOR   \n",
       "4  HERNANDEZ     SYLVIA           T          SENIOR CLERK   \n",
       "\n",
       "                DEPARTMENT                       RACE  GENDER  \\\n",
       "0           CITY SECRETARY                      White  Female   \n",
       "1       PARKS & RECREATION  Black or African American    Male   \n",
       "2                   POLICE                      White    Male   \n",
       "3  HEALTH & HUMAN SERVICES  Black or African American    Male   \n",
       "4  HEALTH & HUMAN SERVICES            Hispanic/Latino  Female   \n",
       "\n",
       "             HIRE DATE ANNUALIZED BASE PAY  \n",
       "0  1952-04-28 00:00:00              109468  \n",
       "1  1998-03-30 00:00:00               22734  \n",
       "2  1958-12-29 00:00:00               78114  \n",
       "3  1979-03-19 00:00:00               80142  \n",
       "4  1998-03-09 00:00:00               24585  "
      ]
     },
     "execution_count": 33,
     "metadata": {},
     "output_type": "execute_result"
    }
   ],
   "source": [
    "df.head()"
   ]
  },
  {
   "cell_type": "markdown",
   "metadata": {},
   "source": [
    "## Normalize column names"
   ]
  },
  {
   "cell_type": "code",
   "execution_count": 34,
   "metadata": {},
   "outputs": [],
   "source": [
    "# https://medium.com/@chaimgluck1/working-with-pandas-fixing-messy-column-names-42a54a6659cd\n",
    "df.columns = df.columns.str.strip().str.lower().str.replace(' ', '_').str.replace('(', '').str.replace(')', '')"
   ]
  },
  {
   "cell_type": "code",
   "execution_count": 35,
   "metadata": {},
   "outputs": [
    {
     "data": {
      "text/html": [
       "<div>\n",
       "<style scoped>\n",
       "    .dataframe tbody tr th:only-of-type {\n",
       "        vertical-align: middle;\n",
       "    }\n",
       "\n",
       "    .dataframe tbody tr th {\n",
       "        vertical-align: top;\n",
       "    }\n",
       "\n",
       "    .dataframe thead th {\n",
       "        text-align: right;\n",
       "    }\n",
       "</style>\n",
       "<table border=\"1\" class=\"dataframe\">\n",
       "  <thead>\n",
       "    <tr style=\"text-align: right;\">\n",
       "      <th></th>\n",
       "      <th>last_name</th>\n",
       "      <th>first_name</th>\n",
       "      <th>middle_name</th>\n",
       "      <th>classification</th>\n",
       "      <th>department</th>\n",
       "      <th>race</th>\n",
       "      <th>gender</th>\n",
       "      <th>hire_date</th>\n",
       "      <th>annualized_base_pay</th>\n",
       "    </tr>\n",
       "  </thead>\n",
       "  <tbody>\n",
       "    <tr>\n",
       "      <th>0</th>\n",
       "      <td>RUSSELL</td>\n",
       "      <td>ANNA</td>\n",
       "      <td>A</td>\n",
       "      <td>CITY SECRETARY</td>\n",
       "      <td>CITY SECRETARY</td>\n",
       "      <td>White</td>\n",
       "      <td>Female</td>\n",
       "      <td>1952-04-28 00:00:00</td>\n",
       "      <td>109468</td>\n",
       "    </tr>\n",
       "    <tr>\n",
       "      <th>1</th>\n",
       "      <td>JONES</td>\n",
       "      <td>JOHN</td>\n",
       "      <td>L</td>\n",
       "      <td>RECREATION ASSISTANT</td>\n",
       "      <td>PARKS &amp; RECREATION</td>\n",
       "      <td>Black or African American</td>\n",
       "      <td>Male</td>\n",
       "      <td>1998-03-30 00:00:00</td>\n",
       "      <td>22734</td>\n",
       "    </tr>\n",
       "    <tr>\n",
       "      <th>2</th>\n",
       "      <td>NORMAN</td>\n",
       "      <td>BENJAMIN</td>\n",
       "      <td>W</td>\n",
       "      <td>POLICE SERGEANT</td>\n",
       "      <td>POLICE</td>\n",
       "      <td>White</td>\n",
       "      <td>Male</td>\n",
       "      <td>1958-12-29 00:00:00</td>\n",
       "      <td>78114</td>\n",
       "    </tr>\n",
       "    <tr>\n",
       "      <th>3</th>\n",
       "      <td>HENRY</td>\n",
       "      <td>WILEY</td>\n",
       "      <td>E</td>\n",
       "      <td>CENTER ADMINISTRATOR</td>\n",
       "      <td>HEALTH &amp; HUMAN SERVICES</td>\n",
       "      <td>Black or African American</td>\n",
       "      <td>Male</td>\n",
       "      <td>1979-03-19 00:00:00</td>\n",
       "      <td>80142</td>\n",
       "    </tr>\n",
       "    <tr>\n",
       "      <th>4</th>\n",
       "      <td>HERNANDEZ</td>\n",
       "      <td>SYLVIA</td>\n",
       "      <td>T</td>\n",
       "      <td>SENIOR CLERK</td>\n",
       "      <td>HEALTH &amp; HUMAN SERVICES</td>\n",
       "      <td>Hispanic/Latino</td>\n",
       "      <td>Female</td>\n",
       "      <td>1998-03-09 00:00:00</td>\n",
       "      <td>24585</td>\n",
       "    </tr>\n",
       "  </tbody>\n",
       "</table>\n",
       "</div>"
      ],
      "text/plain": [
       "   last_name first_name middle_name        classification  \\\n",
       "0    RUSSELL       ANNA           A        CITY SECRETARY   \n",
       "1      JONES       JOHN           L  RECREATION ASSISTANT   \n",
       "2     NORMAN   BENJAMIN           W       POLICE SERGEANT   \n",
       "3      HENRY      WILEY           E  CENTER ADMINISTRATOR   \n",
       "4  HERNANDEZ     SYLVIA           T          SENIOR CLERK   \n",
       "\n",
       "                department                       race  gender  \\\n",
       "0           CITY SECRETARY                      White  Female   \n",
       "1       PARKS & RECREATION  Black or African American    Male   \n",
       "2                   POLICE                      White    Male   \n",
       "3  HEALTH & HUMAN SERVICES  Black or African American    Male   \n",
       "4  HEALTH & HUMAN SERVICES            Hispanic/Latino  Female   \n",
       "\n",
       "             hire_date annualized_base_pay  \n",
       "0  1952-04-28 00:00:00              109468  \n",
       "1  1998-03-30 00:00:00               22734  \n",
       "2  1958-12-29 00:00:00               78114  \n",
       "3  1979-03-19 00:00:00               80142  \n",
       "4  1998-03-09 00:00:00               24585  "
      ]
     },
     "execution_count": 35,
     "metadata": {},
     "output_type": "execute_result"
    }
   ],
   "source": [
    "df.head()"
   ]
  },
  {
   "cell_type": "markdown",
   "metadata": {},
   "source": [
    "# Check for missing values"
   ]
  },
  {
   "cell_type": "code",
   "execution_count": 36,
   "metadata": {},
   "outputs": [
    {
     "data": {
      "text/plain": [
       "last_name                 1\n",
       "first_name                1\n",
       "middle_name            5430\n",
       "classification            0\n",
       "department                0\n",
       "race                      0\n",
       "gender                    0\n",
       "hire_date                 0\n",
       "annualized_base_pay       0\n",
       "dtype: int64"
      ]
     },
     "execution_count": 36,
     "metadata": {},
     "output_type": "execute_result"
    }
   ],
   "source": [
    "df.apply(lambda x: sum(x.isnull()))"
   ]
  },
  {
   "cell_type": "markdown",
   "metadata": {},
   "source": [
    "drop middle name"
   ]
  },
  {
   "cell_type": "code",
   "execution_count": 37,
   "metadata": {},
   "outputs": [],
   "source": [
    "df.drop(['middle_name'], axis=1,inplace=True)"
   ]
  },
  {
   "cell_type": "code",
   "execution_count": 38,
   "metadata": {},
   "outputs": [
    {
     "data": {
      "text/html": [
       "<div>\n",
       "<style scoped>\n",
       "    .dataframe tbody tr th:only-of-type {\n",
       "        vertical-align: middle;\n",
       "    }\n",
       "\n",
       "    .dataframe tbody tr th {\n",
       "        vertical-align: top;\n",
       "    }\n",
       "\n",
       "    .dataframe thead th {\n",
       "        text-align: right;\n",
       "    }\n",
       "</style>\n",
       "<table border=\"1\" class=\"dataframe\">\n",
       "  <thead>\n",
       "    <tr style=\"text-align: right;\">\n",
       "      <th></th>\n",
       "      <th>last_name</th>\n",
       "      <th>first_name</th>\n",
       "      <th>classification</th>\n",
       "      <th>department</th>\n",
       "      <th>race</th>\n",
       "      <th>gender</th>\n",
       "      <th>hire_date</th>\n",
       "      <th>annualized_base_pay</th>\n",
       "    </tr>\n",
       "  </thead>\n",
       "  <tbody>\n",
       "    <tr>\n",
       "      <th>0</th>\n",
       "      <td>RUSSELL</td>\n",
       "      <td>ANNA</td>\n",
       "      <td>CITY SECRETARY</td>\n",
       "      <td>CITY SECRETARY</td>\n",
       "      <td>White</td>\n",
       "      <td>Female</td>\n",
       "      <td>1952-04-28 00:00:00</td>\n",
       "      <td>109468</td>\n",
       "    </tr>\n",
       "    <tr>\n",
       "      <th>1</th>\n",
       "      <td>JONES</td>\n",
       "      <td>JOHN</td>\n",
       "      <td>RECREATION ASSISTANT</td>\n",
       "      <td>PARKS &amp; RECREATION</td>\n",
       "      <td>Black or African American</td>\n",
       "      <td>Male</td>\n",
       "      <td>1998-03-30 00:00:00</td>\n",
       "      <td>22734</td>\n",
       "    </tr>\n",
       "    <tr>\n",
       "      <th>2</th>\n",
       "      <td>NORMAN</td>\n",
       "      <td>BENJAMIN</td>\n",
       "      <td>POLICE SERGEANT</td>\n",
       "      <td>POLICE</td>\n",
       "      <td>White</td>\n",
       "      <td>Male</td>\n",
       "      <td>1958-12-29 00:00:00</td>\n",
       "      <td>78114</td>\n",
       "    </tr>\n",
       "    <tr>\n",
       "      <th>3</th>\n",
       "      <td>HENRY</td>\n",
       "      <td>WILEY</td>\n",
       "      <td>CENTER ADMINISTRATOR</td>\n",
       "      <td>HEALTH &amp; HUMAN SERVICES</td>\n",
       "      <td>Black or African American</td>\n",
       "      <td>Male</td>\n",
       "      <td>1979-03-19 00:00:00</td>\n",
       "      <td>80142</td>\n",
       "    </tr>\n",
       "    <tr>\n",
       "      <th>4</th>\n",
       "      <td>HERNANDEZ</td>\n",
       "      <td>SYLVIA</td>\n",
       "      <td>SENIOR CLERK</td>\n",
       "      <td>HEALTH &amp; HUMAN SERVICES</td>\n",
       "      <td>Hispanic/Latino</td>\n",
       "      <td>Female</td>\n",
       "      <td>1998-03-09 00:00:00</td>\n",
       "      <td>24585</td>\n",
       "    </tr>\n",
       "  </tbody>\n",
       "</table>\n",
       "</div>"
      ],
      "text/plain": [
       "   last_name first_name        classification               department  \\\n",
       "0    RUSSELL       ANNA        CITY SECRETARY           CITY SECRETARY   \n",
       "1      JONES       JOHN  RECREATION ASSISTANT       PARKS & RECREATION   \n",
       "2     NORMAN   BENJAMIN       POLICE SERGEANT                   POLICE   \n",
       "3      HENRY      WILEY  CENTER ADMINISTRATOR  HEALTH & HUMAN SERVICES   \n",
       "4  HERNANDEZ     SYLVIA          SENIOR CLERK  HEALTH & HUMAN SERVICES   \n",
       "\n",
       "                        race  gender            hire_date annualized_base_pay  \n",
       "0                      White  Female  1952-04-28 00:00:00              109468  \n",
       "1  Black or African American    Male  1998-03-30 00:00:00               22734  \n",
       "2                      White    Male  1958-12-29 00:00:00               78114  \n",
       "3  Black or African American    Male  1979-03-19 00:00:00               80142  \n",
       "4            Hispanic/Latino  Female  1998-03-09 00:00:00               24585  "
      ]
     },
     "execution_count": 38,
     "metadata": {},
     "output_type": "execute_result"
    }
   ],
   "source": [
    "df.head()"
   ]
  },
  {
   "cell_type": "code",
   "execution_count": 39,
   "metadata": {},
   "outputs": [
    {
     "data": {
      "text/plain": [
       "last_name              1\n",
       "first_name             1\n",
       "classification         0\n",
       "department             0\n",
       "race                   0\n",
       "gender                 0\n",
       "hire_date              0\n",
       "annualized_base_pay    0\n",
       "dtype: int64"
      ]
     },
     "execution_count": 39,
     "metadata": {},
     "output_type": "execute_result"
    }
   ],
   "source": [
    "df.apply(lambda x: sum(x.isnull()))"
   ]
  },
  {
   "cell_type": "markdown",
   "metadata": {},
   "source": [
    "# show missing values"
   ]
  },
  {
   "cell_type": "code",
   "execution_count": 40,
   "metadata": {},
   "outputs": [
    {
     "data": {
      "text/html": [
       "<div>\n",
       "<style scoped>\n",
       "    .dataframe tbody tr th:only-of-type {\n",
       "        vertical-align: middle;\n",
       "    }\n",
       "\n",
       "    .dataframe tbody tr th {\n",
       "        vertical-align: top;\n",
       "    }\n",
       "\n",
       "    .dataframe thead th {\n",
       "        text-align: right;\n",
       "    }\n",
       "</style>\n",
       "<table border=\"1\" class=\"dataframe\">\n",
       "  <thead>\n",
       "    <tr style=\"text-align: right;\">\n",
       "      <th></th>\n",
       "      <th>last_name</th>\n",
       "      <th>first_name</th>\n",
       "      <th>classification</th>\n",
       "      <th>department</th>\n",
       "      <th>race</th>\n",
       "      <th>gender</th>\n",
       "      <th>hire_date</th>\n",
       "      <th>annualized_base_pay</th>\n",
       "    </tr>\n",
       "  </thead>\n",
       "  <tbody>\n",
       "    <tr>\n",
       "      <th>7123</th>\n",
       "      <td>NaN</td>\n",
       "      <td>BELINDA</td>\n",
       "      <td>POLICE LIEUTENANT</td>\n",
       "      <td>POLICE</td>\n",
       "      <td>White</td>\n",
       "      <td>Female</td>\n",
       "      <td>1996-10-28 00:00:00</td>\n",
       "      <td>87674</td>\n",
       "    </tr>\n",
       "    <tr>\n",
       "      <th>10812</th>\n",
       "      <td>YAO</td>\n",
       "      <td>NaN</td>\n",
       "      <td>SUPERVISING ENGINEER</td>\n",
       "      <td>PUBLIC WORKS &amp; ENGINEERING</td>\n",
       "      <td>Asian/Pacific Islander</td>\n",
       "      <td>Female</td>\n",
       "      <td>2003-07-21 00:00:00</td>\n",
       "      <td>96077</td>\n",
       "    </tr>\n",
       "  </tbody>\n",
       "</table>\n",
       "</div>"
      ],
      "text/plain": [
       "      last_name first_name        classification                  department  \\\n",
       "7123        NaN    BELINDA     POLICE LIEUTENANT                      POLICE   \n",
       "10812       YAO        NaN  SUPERVISING ENGINEER  PUBLIC WORKS & ENGINEERING   \n",
       "\n",
       "                         race  gender            hire_date annualized_base_pay  \n",
       "7123                    White  Female  1996-10-28 00:00:00               87674  \n",
       "10812  Asian/Pacific Islander  Female  2003-07-21 00:00:00               96077  "
      ]
     },
     "execution_count": 40,
     "metadata": {},
     "output_type": "execute_result"
    }
   ],
   "source": [
    "df[df.isnull().any(axis=1)][:10]  # display null rows"
   ]
  },
  {
   "cell_type": "markdown",
   "metadata": {},
   "source": [
    "# replace nan with 'Uknown'"
   ]
  },
  {
   "cell_type": "code",
   "execution_count": 41,
   "metadata": {},
   "outputs": [],
   "source": [
    "df.fillna('Unknown',inplace=True)"
   ]
  },
  {
   "cell_type": "markdown",
   "metadata": {},
   "source": [
    "## combine names \n",
    "- output First initial full last name\n"
   ]
  },
  {
   "cell_type": "code",
   "execution_count": 42,
   "metadata": {},
   "outputs": [],
   "source": [
    "def clean_name(data):\n",
    "    f_name = data.first_name[0]\n",
    "    l_name = data.last_name.title()\n",
    "    full_name = '{}.{}'.format(f_name,l_name)\n",
    "    return full_name"
   ]
  },
  {
   "cell_type": "code",
   "execution_count": 43,
   "metadata": {},
   "outputs": [
    {
     "data": {
      "text/html": [
       "<div>\n",
       "<style scoped>\n",
       "    .dataframe tbody tr th:only-of-type {\n",
       "        vertical-align: middle;\n",
       "    }\n",
       "\n",
       "    .dataframe tbody tr th {\n",
       "        vertical-align: top;\n",
       "    }\n",
       "\n",
       "    .dataframe thead th {\n",
       "        text-align: right;\n",
       "    }\n",
       "</style>\n",
       "<table border=\"1\" class=\"dataframe\">\n",
       "  <thead>\n",
       "    <tr style=\"text-align: right;\">\n",
       "      <th></th>\n",
       "      <th>last_name</th>\n",
       "      <th>first_name</th>\n",
       "      <th>classification</th>\n",
       "      <th>department</th>\n",
       "      <th>race</th>\n",
       "      <th>gender</th>\n",
       "      <th>hire_date</th>\n",
       "      <th>annualized_base_pay</th>\n",
       "    </tr>\n",
       "  </thead>\n",
       "  <tbody>\n",
       "    <tr>\n",
       "      <th>0</th>\n",
       "      <td>RUSSELL</td>\n",
       "      <td>ANNA</td>\n",
       "      <td>CITY SECRETARY</td>\n",
       "      <td>CITY SECRETARY</td>\n",
       "      <td>White</td>\n",
       "      <td>Female</td>\n",
       "      <td>1952-04-28</td>\n",
       "      <td>109468</td>\n",
       "    </tr>\n",
       "    <tr>\n",
       "      <th>1</th>\n",
       "      <td>JONES</td>\n",
       "      <td>JOHN</td>\n",
       "      <td>RECREATION ASSISTANT</td>\n",
       "      <td>PARKS &amp; RECREATION</td>\n",
       "      <td>Black or African American</td>\n",
       "      <td>Male</td>\n",
       "      <td>1998-03-30</td>\n",
       "      <td>22734</td>\n",
       "    </tr>\n",
       "    <tr>\n",
       "      <th>2</th>\n",
       "      <td>NORMAN</td>\n",
       "      <td>BENJAMIN</td>\n",
       "      <td>POLICE SERGEANT</td>\n",
       "      <td>POLICE</td>\n",
       "      <td>White</td>\n",
       "      <td>Male</td>\n",
       "      <td>1958-12-29</td>\n",
       "      <td>78114</td>\n",
       "    </tr>\n",
       "    <tr>\n",
       "      <th>3</th>\n",
       "      <td>HENRY</td>\n",
       "      <td>WILEY</td>\n",
       "      <td>CENTER ADMINISTRATOR</td>\n",
       "      <td>HEALTH &amp; HUMAN SERVICES</td>\n",
       "      <td>Black or African American</td>\n",
       "      <td>Male</td>\n",
       "      <td>1979-03-19</td>\n",
       "      <td>80142</td>\n",
       "    </tr>\n",
       "    <tr>\n",
       "      <th>4</th>\n",
       "      <td>HERNANDEZ</td>\n",
       "      <td>SYLVIA</td>\n",
       "      <td>SENIOR CLERK</td>\n",
       "      <td>HEALTH &amp; HUMAN SERVICES</td>\n",
       "      <td>Hispanic/Latino</td>\n",
       "      <td>Female</td>\n",
       "      <td>1998-03-09</td>\n",
       "      <td>24585</td>\n",
       "    </tr>\n",
       "  </tbody>\n",
       "</table>\n",
       "</div>"
      ],
      "text/plain": [
       "   last_name first_name        classification               department  \\\n",
       "0    RUSSELL       ANNA        CITY SECRETARY           CITY SECRETARY   \n",
       "1      JONES       JOHN  RECREATION ASSISTANT       PARKS & RECREATION   \n",
       "2     NORMAN   BENJAMIN       POLICE SERGEANT                   POLICE   \n",
       "3      HENRY      WILEY  CENTER ADMINISTRATOR  HEALTH & HUMAN SERVICES   \n",
       "4  HERNANDEZ     SYLVIA          SENIOR CLERK  HEALTH & HUMAN SERVICES   \n",
       "\n",
       "                        race  gender  hire_date  annualized_base_pay  \n",
       "0                      White  Female 1952-04-28               109468  \n",
       "1  Black or African American    Male 1998-03-30                22734  \n",
       "2                      White    Male 1958-12-29                78114  \n",
       "3  Black or African American    Male 1979-03-19                80142  \n",
       "4            Hispanic/Latino  Female 1998-03-09                24585  "
      ]
     },
     "execution_count": 43,
     "metadata": {},
     "output_type": "execute_result"
    }
   ],
   "source": [
    "df.head()"
   ]
  },
  {
   "cell_type": "code",
   "execution_count": 44,
   "metadata": {},
   "outputs": [],
   "source": [
    "df['name'] = df.apply(clean_name,axis=1)\n",
    "df.drop(['last_name','first_name'],axis=1,inplace=True)"
   ]
  },
  {
   "cell_type": "code",
   "execution_count": 45,
   "metadata": {},
   "outputs": [
    {
     "data": {
      "text/html": [
       "<div>\n",
       "<style scoped>\n",
       "    .dataframe tbody tr th:only-of-type {\n",
       "        vertical-align: middle;\n",
       "    }\n",
       "\n",
       "    .dataframe tbody tr th {\n",
       "        vertical-align: top;\n",
       "    }\n",
       "\n",
       "    .dataframe thead th {\n",
       "        text-align: right;\n",
       "    }\n",
       "</style>\n",
       "<table border=\"1\" class=\"dataframe\">\n",
       "  <thead>\n",
       "    <tr style=\"text-align: right;\">\n",
       "      <th></th>\n",
       "      <th>classification</th>\n",
       "      <th>department</th>\n",
       "      <th>race</th>\n",
       "      <th>gender</th>\n",
       "      <th>hire_date</th>\n",
       "      <th>annualized_base_pay</th>\n",
       "      <th>name</th>\n",
       "    </tr>\n",
       "  </thead>\n",
       "  <tbody>\n",
       "    <tr>\n",
       "      <th>0</th>\n",
       "      <td>CITY SECRETARY</td>\n",
       "      <td>CITY SECRETARY</td>\n",
       "      <td>White</td>\n",
       "      <td>Female</td>\n",
       "      <td>1952-04-28</td>\n",
       "      <td>109468</td>\n",
       "      <td>A.Russell</td>\n",
       "    </tr>\n",
       "    <tr>\n",
       "      <th>1</th>\n",
       "      <td>RECREATION ASSISTANT</td>\n",
       "      <td>PARKS &amp; RECREATION</td>\n",
       "      <td>Black or African American</td>\n",
       "      <td>Male</td>\n",
       "      <td>1998-03-30</td>\n",
       "      <td>22734</td>\n",
       "      <td>J.Jones</td>\n",
       "    </tr>\n",
       "    <tr>\n",
       "      <th>2</th>\n",
       "      <td>POLICE SERGEANT</td>\n",
       "      <td>POLICE</td>\n",
       "      <td>White</td>\n",
       "      <td>Male</td>\n",
       "      <td>1958-12-29</td>\n",
       "      <td>78114</td>\n",
       "      <td>B.Norman</td>\n",
       "    </tr>\n",
       "    <tr>\n",
       "      <th>3</th>\n",
       "      <td>CENTER ADMINISTRATOR</td>\n",
       "      <td>HEALTH &amp; HUMAN SERVICES</td>\n",
       "      <td>Black or African American</td>\n",
       "      <td>Male</td>\n",
       "      <td>1979-03-19</td>\n",
       "      <td>80142</td>\n",
       "      <td>W.Henry</td>\n",
       "    </tr>\n",
       "    <tr>\n",
       "      <th>4</th>\n",
       "      <td>SENIOR CLERK</td>\n",
       "      <td>HEALTH &amp; HUMAN SERVICES</td>\n",
       "      <td>Hispanic/Latino</td>\n",
       "      <td>Female</td>\n",
       "      <td>1998-03-09</td>\n",
       "      <td>24585</td>\n",
       "      <td>S.Hernandez</td>\n",
       "    </tr>\n",
       "  </tbody>\n",
       "</table>\n",
       "</div>"
      ],
      "text/plain": [
       "         classification               department                       race  \\\n",
       "0        CITY SECRETARY           CITY SECRETARY                      White   \n",
       "1  RECREATION ASSISTANT       PARKS & RECREATION  Black or African American   \n",
       "2       POLICE SERGEANT                   POLICE                      White   \n",
       "3  CENTER ADMINISTRATOR  HEALTH & HUMAN SERVICES  Black or African American   \n",
       "4          SENIOR CLERK  HEALTH & HUMAN SERVICES            Hispanic/Latino   \n",
       "\n",
       "   gender  hire_date  annualized_base_pay         name  \n",
       "0  Female 1952-04-28               109468    A.Russell  \n",
       "1    Male 1998-03-30                22734      J.Jones  \n",
       "2    Male 1958-12-29                78114     B.Norman  \n",
       "3    Male 1979-03-19                80142      W.Henry  \n",
       "4  Female 1998-03-09                24585  S.Hernandez  "
      ]
     },
     "execution_count": 45,
     "metadata": {},
     "output_type": "execute_result"
    }
   ],
   "source": [
    "df.head()"
   ]
  },
  {
   "cell_type": "code",
   "execution_count": 46,
   "metadata": {},
   "outputs": [],
   "source": [
    "# column order\n",
    "col_order =  ['name','classification','department','race','gender','hire_date','annualized_base_pay']\n",
    "df = df.reindex(columns=col_order)"
   ]
  },
  {
   "cell_type": "code",
   "execution_count": 47,
   "metadata": {},
   "outputs": [
    {
     "data": {
      "text/html": [
       "<div>\n",
       "<style scoped>\n",
       "    .dataframe tbody tr th:only-of-type {\n",
       "        vertical-align: middle;\n",
       "    }\n",
       "\n",
       "    .dataframe tbody tr th {\n",
       "        vertical-align: top;\n",
       "    }\n",
       "\n",
       "    .dataframe thead th {\n",
       "        text-align: right;\n",
       "    }\n",
       "</style>\n",
       "<table border=\"1\" class=\"dataframe\">\n",
       "  <thead>\n",
       "    <tr style=\"text-align: right;\">\n",
       "      <th></th>\n",
       "      <th>name</th>\n",
       "      <th>classification</th>\n",
       "      <th>department</th>\n",
       "      <th>race</th>\n",
       "      <th>gender</th>\n",
       "      <th>hire_date</th>\n",
       "      <th>annualized_base_pay</th>\n",
       "    </tr>\n",
       "  </thead>\n",
       "  <tbody>\n",
       "    <tr>\n",
       "      <th>0</th>\n",
       "      <td>A.Russell</td>\n",
       "      <td>CITY SECRETARY</td>\n",
       "      <td>CITY SECRETARY</td>\n",
       "      <td>White</td>\n",
       "      <td>Female</td>\n",
       "      <td>1952-04-28</td>\n",
       "      <td>109468</td>\n",
       "    </tr>\n",
       "    <tr>\n",
       "      <th>1</th>\n",
       "      <td>J.Jones</td>\n",
       "      <td>RECREATION ASSISTANT</td>\n",
       "      <td>PARKS &amp; RECREATION</td>\n",
       "      <td>Black or African American</td>\n",
       "      <td>Male</td>\n",
       "      <td>1998-03-30</td>\n",
       "      <td>22734</td>\n",
       "    </tr>\n",
       "    <tr>\n",
       "      <th>2</th>\n",
       "      <td>B.Norman</td>\n",
       "      <td>POLICE SERGEANT</td>\n",
       "      <td>POLICE</td>\n",
       "      <td>White</td>\n",
       "      <td>Male</td>\n",
       "      <td>1958-12-29</td>\n",
       "      <td>78114</td>\n",
       "    </tr>\n",
       "    <tr>\n",
       "      <th>3</th>\n",
       "      <td>W.Henry</td>\n",
       "      <td>CENTER ADMINISTRATOR</td>\n",
       "      <td>HEALTH &amp; HUMAN SERVICES</td>\n",
       "      <td>Black or African American</td>\n",
       "      <td>Male</td>\n",
       "      <td>1979-03-19</td>\n",
       "      <td>80142</td>\n",
       "    </tr>\n",
       "    <tr>\n",
       "      <th>4</th>\n",
       "      <td>S.Hernandez</td>\n",
       "      <td>SENIOR CLERK</td>\n",
       "      <td>HEALTH &amp; HUMAN SERVICES</td>\n",
       "      <td>Hispanic/Latino</td>\n",
       "      <td>Female</td>\n",
       "      <td>1998-03-09</td>\n",
       "      <td>24585</td>\n",
       "    </tr>\n",
       "  </tbody>\n",
       "</table>\n",
       "</div>"
      ],
      "text/plain": [
       "          name        classification               department  \\\n",
       "0    A.Russell        CITY SECRETARY           CITY SECRETARY   \n",
       "1      J.Jones  RECREATION ASSISTANT       PARKS & RECREATION   \n",
       "2     B.Norman       POLICE SERGEANT                   POLICE   \n",
       "3      W.Henry  CENTER ADMINISTRATOR  HEALTH & HUMAN SERVICES   \n",
       "4  S.Hernandez          SENIOR CLERK  HEALTH & HUMAN SERVICES   \n",
       "\n",
       "                        race  gender  hire_date  annualized_base_pay  \n",
       "0                      White  Female 1952-04-28               109468  \n",
       "1  Black or African American    Male 1998-03-30                22734  \n",
       "2                      White    Male 1958-12-29                78114  \n",
       "3  Black or African American    Male 1979-03-19                80142  \n",
       "4            Hispanic/Latino  Female 1998-03-09                24585  "
      ]
     },
     "execution_count": 47,
     "metadata": {},
     "output_type": "execute_result"
    }
   ],
   "source": [
    "df.head()"
   ]
  },
  {
   "cell_type": "markdown",
   "metadata": {},
   "source": [
    "# get years of service"
   ]
  },
  {
   "cell_type": "code",
   "execution_count": 52,
   "metadata": {},
   "outputs": [],
   "source": [
    "hired = df.hire_date.dt.year\n",
    "current = 2014"
   ]
  },
  {
   "cell_type": "code",
   "execution_count": 56,
   "metadata": {},
   "outputs": [],
   "source": [
    "df['tenure'] = current - hired\n",
    "df.drop(['hire_date'],axis=1,inplace=True)"
   ]
  },
  {
   "cell_type": "code",
   "execution_count": 57,
   "metadata": {},
   "outputs": [
    {
     "data": {
      "text/html": [
       "<div>\n",
       "<style scoped>\n",
       "    .dataframe tbody tr th:only-of-type {\n",
       "        vertical-align: middle;\n",
       "    }\n",
       "\n",
       "    .dataframe tbody tr th {\n",
       "        vertical-align: top;\n",
       "    }\n",
       "\n",
       "    .dataframe thead th {\n",
       "        text-align: right;\n",
       "    }\n",
       "</style>\n",
       "<table border=\"1\" class=\"dataframe\">\n",
       "  <thead>\n",
       "    <tr style=\"text-align: right;\">\n",
       "      <th></th>\n",
       "      <th>name</th>\n",
       "      <th>classification</th>\n",
       "      <th>department</th>\n",
       "      <th>race</th>\n",
       "      <th>gender</th>\n",
       "      <th>annualized_base_pay</th>\n",
       "      <th>tenure</th>\n",
       "    </tr>\n",
       "  </thead>\n",
       "  <tbody>\n",
       "    <tr>\n",
       "      <th>0</th>\n",
       "      <td>A.Russell</td>\n",
       "      <td>CITY SECRETARY</td>\n",
       "      <td>CITY SECRETARY</td>\n",
       "      <td>White</td>\n",
       "      <td>Female</td>\n",
       "      <td>109468</td>\n",
       "      <td>62</td>\n",
       "    </tr>\n",
       "    <tr>\n",
       "      <th>1</th>\n",
       "      <td>J.Jones</td>\n",
       "      <td>RECREATION ASSISTANT</td>\n",
       "      <td>PARKS &amp; RECREATION</td>\n",
       "      <td>Black or African American</td>\n",
       "      <td>Male</td>\n",
       "      <td>22734</td>\n",
       "      <td>16</td>\n",
       "    </tr>\n",
       "    <tr>\n",
       "      <th>2</th>\n",
       "      <td>B.Norman</td>\n",
       "      <td>POLICE SERGEANT</td>\n",
       "      <td>POLICE</td>\n",
       "      <td>White</td>\n",
       "      <td>Male</td>\n",
       "      <td>78114</td>\n",
       "      <td>56</td>\n",
       "    </tr>\n",
       "    <tr>\n",
       "      <th>3</th>\n",
       "      <td>W.Henry</td>\n",
       "      <td>CENTER ADMINISTRATOR</td>\n",
       "      <td>HEALTH &amp; HUMAN SERVICES</td>\n",
       "      <td>Black or African American</td>\n",
       "      <td>Male</td>\n",
       "      <td>80142</td>\n",
       "      <td>35</td>\n",
       "    </tr>\n",
       "    <tr>\n",
       "      <th>4</th>\n",
       "      <td>S.Hernandez</td>\n",
       "      <td>SENIOR CLERK</td>\n",
       "      <td>HEALTH &amp; HUMAN SERVICES</td>\n",
       "      <td>Hispanic/Latino</td>\n",
       "      <td>Female</td>\n",
       "      <td>24585</td>\n",
       "      <td>16</td>\n",
       "    </tr>\n",
       "  </tbody>\n",
       "</table>\n",
       "</div>"
      ],
      "text/plain": [
       "          name        classification               department  \\\n",
       "0    A.Russell        CITY SECRETARY           CITY SECRETARY   \n",
       "1      J.Jones  RECREATION ASSISTANT       PARKS & RECREATION   \n",
       "2     B.Norman       POLICE SERGEANT                   POLICE   \n",
       "3      W.Henry  CENTER ADMINISTRATOR  HEALTH & HUMAN SERVICES   \n",
       "4  S.Hernandez          SENIOR CLERK  HEALTH & HUMAN SERVICES   \n",
       "\n",
       "                        race  gender  annualized_base_pay  tenure  \n",
       "0                      White  Female               109468      62  \n",
       "1  Black or African American    Male                22734      16  \n",
       "2                      White    Male                78114      56  \n",
       "3  Black or African American    Male                80142      35  \n",
       "4            Hispanic/Latino  Female                24585      16  "
      ]
     },
     "execution_count": 57,
     "metadata": {},
     "output_type": "execute_result"
    }
   ],
   "source": [
    "df.head()"
   ]
  },
  {
   "cell_type": "markdown",
   "metadata": {},
   "source": [
    "# save datafame"
   ]
  },
  {
   "cell_type": "code",
   "execution_count": 62,
   "metadata": {},
   "outputs": [],
   "source": [
    "df.to_csv(data_directory_saves+'houston_2014.csv')"
   ]
  },
  {
   "cell_type": "code",
   "execution_count": 63,
   "metadata": {},
   "outputs": [
    {
     "data": {
      "text/plain": [
       "'../data/clean_data/houston/2014/'"
      ]
     },
     "execution_count": 63,
     "metadata": {},
     "output_type": "execute_result"
    }
   ],
   "source": [
    "data_directory_saves"
   ]
  },
  {
   "cell_type": "code",
   "execution_count": null,
   "metadata": {},
   "outputs": [],
   "source": []
  }
 ],
 "metadata": {
  "kernelspec": {
   "display_name": "Python 3",
   "language": "python",
   "name": "python3"
  },
  "language_info": {
   "codemirror_mode": {
    "name": "ipython",
    "version": 3
   },
   "file_extension": ".py",
   "mimetype": "text/x-python",
   "name": "python",
   "nbconvert_exporter": "python",
   "pygments_lexer": "ipython3",
   "version": "3.6.8"
  }
 },
 "nbformat": 4,
 "nbformat_minor": 2
}
